{
  "nbformat": 4,
  "nbformat_minor": 0,
  "metadata": {
    "colab": {
      "name": "Welcome To Colaboratory",
      "provenance": [],
      "collapsed_sections": [],
      "toc_visible": true,
      "include_colab_link": true
    },
    "kernelspec": {
      "display_name": "Python 3",
      "name": "python3"
    }
  },
  "cells": [
    {
      "cell_type": "markdown",
      "metadata": {
        "id": "view-in-github",
        "colab_type": "text"
      },
      "source": [
        "<a href=\"https://colab.research.google.com/github/berryny/panda_juptier/blob/master/Welcome_To_Colaboratory.ipynb\" target=\"_parent\"><img src=\"https://colab.research.google.com/assets/colab-badge.svg\" alt=\"Open In Colab\"/></a>"
      ]
    },
    {
      "cell_type": "markdown",
      "metadata": {
        "colab_type": "text",
        "id": "5fCEDCU_qrC0"
      },
      "source": [
        "<p><img alt=\"Colaboratory logo\" height=\"45px\" src=\"/img/colab_favicon.ico\" align=\"left\" hspace=\"10px\" vspace=\"0px\"></p>\n",
        "\n",
        "<h1>Welcome to Colaboratory!</h1>\n",
        "\n",
        "\n",
        "Colaboratory is a free Jupyter notebook environment that requires no setup and runs entirely in the cloud.\n",
        "\n",
        "With Colaboratory you can write and execute code, save and share your analyses, and access powerful computing resources, all for free from your browser."
      ]
    },
    {
      "cell_type": "code",
      "metadata": {
        "colab_type": "code",
        "id": "xitplqMNk_Hc",
        "outputId": "ed4f60d2-878d-4056-c438-352dac39a112",
        "colab": {
          "height": 420
        }
      },
      "source": [
        "#@title Introducing Colaboratory { display-mode: \"form\" }\n",
        "#@markdown This 3-minute video gives an overview of the key features of Colaboratory:\n",
        "from IPython.display import YouTubeVideo\n",
        "YouTubeVideo('inN8seMm7UI', width=600, height=400)"
      ],
      "execution_count": 0,
      "outputs": [
        {
          "output_type": "execute_result",
          "data": {
            "text/html": [
              "\n",
              "        <iframe\n",
              "            width=\"600\"\n",
              "            height=\"400\"\n",
              "            src=\"https://www.youtube.com/embed/inN8seMm7UI\"\n",
              "            frameborder=\"0\"\n",
              "            allowfullscreen\n",
              "        ></iframe>\n",
              "        "
            ],
            "text/plain": [
              "<IPython.lib.display.YouTubeVideo at 0x7f956e9dda50>"
            ]
          },
          "metadata": {
            "tags": []
          },
          "execution_count": 0
        }
      ]
    },
    {
      "cell_type": "markdown",
      "metadata": {
        "colab_type": "text",
        "id": "GJBs_flRovLc"
      },
      "source": [
        "## Getting Started\n",
        "\n",
        "The document you are reading is a  [Jupyter notebook](https://jupyter.org/), hosted in Colaboratory. It is not a static page, but an interactive environment that lets you write and execute code in Python and other languages.\n",
        "\n",
        "For example, here is a **code cell** with a short Python script that computes a value, stores it in a variable, and prints the result:"
      ]
    },
    {
      "cell_type": "code",
      "metadata": {
        "colab_type": "code",
        "id": "gJr_9dXGpJ05",
        "outputId": "5626194c-e802-4293-942d-2908885c3c1f",
        "colab": {
          "height": 35
        }
      },
      "source": [
        "seconds_in_a_day = 24 * 60 * 60\n",
        "seconds_in_a_day"
      ],
      "execution_count": 0,
      "outputs": [
        {
          "output_type": "execute_result",
          "data": {
            "text/plain": [
              "86400"
            ]
          },
          "metadata": {
            "tags": []
          },
          "execution_count": 0
        }
      ]
    },
    {
      "cell_type": "markdown",
      "metadata": {
        "colab_type": "text",
        "id": "2fhs6GZ4qFMx"
      },
      "source": [
        "To execute the code in the above cell, select it with a click and then either press the play button to the left of the code, or use the keyboard shortcut \"Command/Ctrl+Enter\".\n",
        "\n",
        "All cells modify the same global state, so variables that you define by executing a cell can be used in other cells:"
      ]
    },
    {
      "cell_type": "code",
      "metadata": {
        "colab_type": "code",
        "id": "-gE-Ez1qtyIA",
        "outputId": "8d2e4259-4682-4e19-b683-7b9087f28820",
        "colab": {
          "height": 35
        }
      },
      "source": [
        "seconds_in_a_week = 7 * seconds_in_a_day\n",
        "seconds_in_a_week"
      ],
      "execution_count": 0,
      "outputs": [
        {
          "output_type": "execute_result",
          "data": {
            "text/plain": [
              "604800"
            ]
          },
          "metadata": {
            "tags": []
          },
          "execution_count": 0
        }
      ]
    },
    {
      "cell_type": "markdown",
      "metadata": {
        "colab_type": "text",
        "id": "lSrWNr3MuFUS"
      },
      "source": [
        "For more information about working with Colaboratory notebooks, see [Overview of Colaboratory](/notebooks/basic_features_overview.ipynb).\n"
      ]
    },
    {
      "cell_type": "markdown",
      "metadata": {
        "colab_type": "text",
        "id": "-Rh3-Vt9Nev9"
      },
      "source": [
        "## More Resources\n",
        "\n",
        "Learn how to make the most of Python, Jupyter, Colaboratory, and related tools with these resources:\n",
        "\n",
        "### Working with Notebooks in Colaboratory\n",
        "- [Overview of Colaboratory](/notebooks/basic_features_overview.ipynb)\n",
        "- [Guide to Markdown](/notebooks/markdown_guide.ipynb)\n",
        "- [Importing libraries and installing dependencies](/notebooks/snippets/importing_libraries.ipynb)\n",
        "- [Saving and loading notebooks in GitHub](https://colab.research.google.com/github/googlecolab/colabtools/blob/master/notebooks/colab-github-demo.ipynb)\n",
        "- [Interactive forms](/notebooks/forms.ipynb)\n",
        "- [Interactive widgets](/notebooks/widgets.ipynb)\n",
        "- <img src=\"/img/new.png\" height=\"20px\" align=\"left\" hspace=\"4px\" alt=\"New\"></img>\n",
        " [TensorFlow 2 in Colab](/notebooks/tensorflow_version.ipynb)\n",
        "\n",
        "### Working with Data\n",
        "- [Loading data: Drive, Sheets, and Google Cloud Storage](/notebooks/io.ipynb) \n",
        "- [Charts: visualizing data](/notebooks/charts.ipynb)\n",
        "- [Getting started with BigQuery](/notebooks/bigquery.ipynb)\n",
        "\n",
        "### Machine Learning Crash Course\n",
        "These are a few of the notebooks from Google's online Machine Learning course. See the [full course website](https://developers.google.com/machine-learning/crash-course/) for more.\n",
        "- [Intro to Pandas](/notebooks/mlcc/intro_to_pandas.ipynb)\n",
        "- [Tensorflow concepts](/notebooks/mlcc/tensorflow_programming_concepts.ipynb)\n",
        "- [First steps with TensorFlow](/notebooks/mlcc/first_steps_with_tensor_flow.ipynb)\n",
        "- [Intro to neural nets](/notebooks/mlcc/intro_to_neural_nets.ipynb)\n",
        "- [Intro to sparse data and embeddings](/notebooks/mlcc/intro_to_sparse_data_and_embeddings.ipynb)\n",
        "\n",
        "### Using Accelerated Hardware\n",
        "- [TensorFlow with GPUs](/notebooks/gpu.ipynb)\n",
        "- [TensorFlow with TPUs](/notebooks/tpu.ipynb)"
      ]
    },
    {
      "cell_type": "markdown",
      "metadata": {
        "colab_type": "text",
        "id": "P-H6Lw1vyNNd"
      },
      "source": [
        "## Machine Learning Examples: Seedbank\n",
        "\n",
        "To see end-to-end examples of the interactive machine learning analyses that Colaboratory makes possible, check out the [Seedbank](https://research.google.com/seedbank/) project.\n",
        "\n",
        "A few featured examples:\n",
        "\n",
        "- [Neural Style Transfer](https://research.google.com/seedbank/seed/neural_style_transfer_with_tfkeras): Use deep learning to transfer style between images.\n",
        "- [EZ NSynth](https://research.google.com/seedbank/seed/ez_nsynth): Synthesize audio with WaveNet auto-encoders.\n",
        "- [Fashion MNIST with Keras and TPUs](https://research.google.com/seedbank/seed/fashion_mnist_with_keras_and_tpus): Classify fashion-related images with deep learning.\n",
        "- [DeepDream](https://research.google.com/seedbank/seed/deepdream): Produce DeepDream images from your own photos.\n",
        "- [Convolutional VAE](https://research.google.com/seedbank/seed/convolutional_vae): Create a generative model of handwritten digits."
      ]
    },
    {
      "cell_type": "code",
      "metadata": {
        "id": "T4MzWe9Te9o2",
        "colab_type": "code",
        "colab": {
          "base_uri": "https://localhost:8080/",
          "height": 51
        },
        "outputId": "b7ac4fb7-5892-4cf7-ee35-11aeed2c5c2f"
      },
      "source": [
        "print('Hello world!')\n",
        "\n",
        "import math\n",
        "math.ceil(4.3)\n"
      ],
      "execution_count": 1,
      "outputs": [
        {
          "output_type": "stream",
          "text": [
            "Hello world!\n"
          ],
          "name": "stdout"
        },
        {
          "output_type": "execute_result",
          "data": {
            "text/plain": [
              "5"
            ]
          },
          "metadata": {
            "tags": []
          },
          "execution_count": 1
        }
      ]
    },
    {
      "cell_type": "code",
      "metadata": {
        "id": "584UeXSNlRfS",
        "colab_type": "code",
        "colab": {}
      },
      "source": [
        "# We need to import the libraries to start with\n",
        "import pandas as pd\n",
        "import matplotlib.pyplot as plt\n",
        "import seaborn as sns\n",
        "\n",
        "# This command makes charts show inline in a notebook\n",
        "%matplotlib inline\n",
        "\n",
        "# Making the figures show up a little larger than default size\n",
        "plt.rcParams['figure.figsize'] = [10,6]"
      ],
      "execution_count": 0,
      "outputs": []
    },
    {
      "cell_type": "code",
      "metadata": {
        "id": "O0PPMJ6DlW4z",
        "colab_type": "code",
        "colab": {
          "base_uri": "https://localhost:8080/",
          "height": 204
        },
        "outputId": "0ca3144d-2de5-4c1b-b65f-da3bfb78269e"
      },
      "source": [
        "import psycopg2\n",
        "\n",
        "# Set up a connection to a public SQL database\n",
        "conn = psycopg2.connect(\"\"\"\n",
        "    host='hh-pgsql-public.ebi.ac.uk' dbname='pfmegrnargs' user='reader' password='NWDMCE5xdipIjRrp'\n",
        "\"\"\")\n",
        "\n",
        "# Write a SQL query to pull the data\n",
        "query = \"SELECT * FROM rnacen.protein_info LIMIT 5\"\n",
        "\n",
        "# Execute the query and store the result in a dataframe\n",
        "df_from_db = pd.read_sql(query, conn)\n",
        "\n",
        "# Show the resulting dataframe\n",
        "df_from_db"
      ],
      "execution_count": 4,
      "outputs": [
        {
          "output_type": "execute_result",
          "data": {
            "text/html": [
              "<div>\n",
              "<style scoped>\n",
              "    .dataframe tbody tr th:only-of-type {\n",
              "        vertical-align: middle;\n",
              "    }\n",
              "\n",
              "    .dataframe tbody tr th {\n",
              "        vertical-align: top;\n",
              "    }\n",
              "\n",
              "    .dataframe thead th {\n",
              "        text-align: right;\n",
              "    }\n",
              "</style>\n",
              "<table border=\"1\" class=\"dataframe\">\n",
              "  <thead>\n",
              "    <tr style=\"text-align: right;\">\n",
              "      <th></th>\n",
              "      <th>protein_accession</th>\n",
              "      <th>description</th>\n",
              "      <th>label</th>\n",
              "      <th>synonyms</th>\n",
              "    </tr>\n",
              "  </thead>\n",
              "  <tbody>\n",
              "    <tr>\n",
              "      <th>0</th>\n",
              "      <td>ENSEMBL:ERS019521_00953</td>\n",
              "      <td>rhodanese family protein</td>\n",
              "      <td>moeZ</td>\n",
              "      <td>[ERS019521_00953]</td>\n",
              "    </tr>\n",
              "    <tr>\n",
              "      <th>1</th>\n",
              "      <td>ENSEMBL:ERS019521_00955</td>\n",
              "      <td>ribosomal small subunit pseudouridine synthase A</td>\n",
              "      <td>rsuA</td>\n",
              "      <td>[ERS019521_00955]</td>\n",
              "    </tr>\n",
              "    <tr>\n",
              "      <th>2</th>\n",
              "      <td>ENSEMBL:ERS019521_00956</td>\n",
              "      <td>GTP-binding protein TypA</td>\n",
              "      <td>typA</td>\n",
              "      <td>[ERS019521_00956]</td>\n",
              "    </tr>\n",
              "    <tr>\n",
              "      <th>3</th>\n",
              "      <td>ENSEMBL:ERS019521_00960</td>\n",
              "      <td>ABC transporter ATP-binding protein</td>\n",
              "      <td>glnQ_2</td>\n",
              "      <td>[ERS019521_00960]</td>\n",
              "    </tr>\n",
              "    <tr>\n",
              "      <th>4</th>\n",
              "      <td>ENSEMBL:ERS019521_00961</td>\n",
              "      <td>MurD D-glutamic acid adding enzyme</td>\n",
              "      <td>murD</td>\n",
              "      <td>[ERS019521_00961]</td>\n",
              "    </tr>\n",
              "  </tbody>\n",
              "</table>\n",
              "</div>"
            ],
            "text/plain": [
              "         protein_accession  ...           synonyms\n",
              "0  ENSEMBL:ERS019521_00953  ...  [ERS019521_00953]\n",
              "1  ENSEMBL:ERS019521_00955  ...  [ERS019521_00955]\n",
              "2  ENSEMBL:ERS019521_00956  ...  [ERS019521_00956]\n",
              "3  ENSEMBL:ERS019521_00960  ...  [ERS019521_00960]\n",
              "4  ENSEMBL:ERS019521_00961  ...  [ERS019521_00961]\n",
              "\n",
              "[5 rows x 4 columns]"
            ]
          },
          "metadata": {
            "tags": []
          },
          "execution_count": 4
        }
      ]
    },
    {
      "cell_type": "code",
      "metadata": {
        "id": "c_2RknrMl9Wb",
        "colab_type": "code",
        "colab": {}
      },
      "source": [
        "# Read data from a CSV into a dataframe\n",
        "# This is the data we're going to be working with!\n",
        "tx = pd.read_csv('./mock_treatment_starts_2016.csv')"
      ],
      "execution_count": 0,
      "outputs": []
    },
    {
      "cell_type": "code",
      "metadata": {
        "id": "JKxN6C0lmwpz",
        "colab_type": "code",
        "colab": {
          "base_uri": "https://localhost:8080/",
          "height": 793
        },
        "outputId": "7ebca8c2-7393-4871-f65a-0a7e990c128c"
      },
      "source": [
        "# We already did this: Just using the name of the dataframe will print the entire output\n",
        "# If there are too many rows, Jupyter will print the top few and bottom few rows\n",
        "# with a \"...\" to indicate that there are more rows\n",
        "tx"
      ],
      "execution_count": 8,
      "outputs": [
        {
          "output_type": "execute_result",
          "data": {
            "text/html": [
              "<div>\n",
              "<style scoped>\n",
              "    .dataframe tbody tr th:only-of-type {\n",
              "        vertical-align: middle;\n",
              "    }\n",
              "\n",
              "    .dataframe tbody tr th {\n",
              "        vertical-align: top;\n",
              "    }\n",
              "\n",
              "    .dataframe thead th {\n",
              "        text-align: right;\n",
              "    }\n",
              "</style>\n",
              "<table border=\"1\" class=\"dataframe\">\n",
              "  <thead>\n",
              "    <tr style=\"text-align: right;\">\n",
              "      <th></th>\n",
              "      <th>PatientID</th>\n",
              "      <th>TreatmentStart</th>\n",
              "      <th>Drug</th>\n",
              "      <th>Dosage</th>\n",
              "    </tr>\n",
              "  </thead>\n",
              "  <tbody>\n",
              "    <tr>\n",
              "      <th>0</th>\n",
              "      <td>PT1</td>\n",
              "      <td>1/14/16</td>\n",
              "      <td>Cisplatin</td>\n",
              "      <td>200</td>\n",
              "    </tr>\n",
              "    <tr>\n",
              "      <th>1</th>\n",
              "      <td>PT20</td>\n",
              "      <td>1/2/16</td>\n",
              "      <td>Cisplatin</td>\n",
              "      <td>140</td>\n",
              "    </tr>\n",
              "    <tr>\n",
              "      <th>2</th>\n",
              "      <td>PT2</td>\n",
              "      <td>1/10/16</td>\n",
              "      <td>Cisplatin</td>\n",
              "      <td>180</td>\n",
              "    </tr>\n",
              "    <tr>\n",
              "      <th>3</th>\n",
              "      <td>PT3</td>\n",
              "      <td>1/24/16</td>\n",
              "      <td>Cisplatin</td>\n",
              "      <td>140</td>\n",
              "    </tr>\n",
              "    <tr>\n",
              "      <th>4</th>\n",
              "      <td>PT4</td>\n",
              "      <td>2/14/16</td>\n",
              "      <td>Cisplatin</td>\n",
              "      <td>200</td>\n",
              "    </tr>\n",
              "    <tr>\n",
              "      <th>5</th>\n",
              "      <td>PT19</td>\n",
              "      <td>2/10/16</td>\n",
              "      <td>Cisplatin</td>\n",
              "      <td>180</td>\n",
              "    </tr>\n",
              "    <tr>\n",
              "      <th>6</th>\n",
              "      <td>PT5</td>\n",
              "      <td>2/6/16</td>\n",
              "      <td>Cisplatin</td>\n",
              "      <td>190</td>\n",
              "    </tr>\n",
              "    <tr>\n",
              "      <th>7</th>\n",
              "      <td>PT6</td>\n",
              "      <td>3/1/16</td>\n",
              "      <td>Cisplatin</td>\n",
              "      <td>180</td>\n",
              "    </tr>\n",
              "    <tr>\n",
              "      <th>8</th>\n",
              "      <td>PT7</td>\n",
              "      <td>3/1/16</td>\n",
              "      <td>Cisplatin</td>\n",
              "      <td>210</td>\n",
              "    </tr>\n",
              "    <tr>\n",
              "      <th>9</th>\n",
              "      <td>PT8</td>\n",
              "      <td>3/19/16</td>\n",
              "      <td>Cisplatin</td>\n",
              "      <td>180</td>\n",
              "    </tr>\n",
              "    <tr>\n",
              "      <th>10</th>\n",
              "      <td>PT9</td>\n",
              "      <td>3/27/16</td>\n",
              "      <td>Nivolumab</td>\n",
              "      <td>240</td>\n",
              "    </tr>\n",
              "    <tr>\n",
              "      <th>11</th>\n",
              "      <td>PT10</td>\n",
              "      <td>4/7/16</td>\n",
              "      <td>Nivolumab</td>\n",
              "      <td>240</td>\n",
              "    </tr>\n",
              "    <tr>\n",
              "      <th>12</th>\n",
              "      <td>PT10</td>\n",
              "      <td>4/7/16</td>\n",
              "      <td>Cisplatin</td>\n",
              "      <td>140</td>\n",
              "    </tr>\n",
              "    <tr>\n",
              "      <th>13</th>\n",
              "      <td>PT11</td>\n",
              "      <td>4/17/16</td>\n",
              "      <td>Cisplatin</td>\n",
              "      <td>190</td>\n",
              "    </tr>\n",
              "    <tr>\n",
              "      <th>14</th>\n",
              "      <td>PT16</td>\n",
              "      <td>4/9/16</td>\n",
              "      <td>Cisplatin</td>\n",
              "      <td>160</td>\n",
              "    </tr>\n",
              "    <tr>\n",
              "      <th>15</th>\n",
              "      <td>PT12</td>\n",
              "      <td>5/15/16</td>\n",
              "      <td>Cisplatin</td>\n",
              "      <td>1800</td>\n",
              "    </tr>\n",
              "    <tr>\n",
              "      <th>16</th>\n",
              "      <td>PT13</td>\n",
              "      <td>5/21/16</td>\n",
              "      <td>Cisplatin</td>\n",
              "      <td>180</td>\n",
              "    </tr>\n",
              "    <tr>\n",
              "      <th>17</th>\n",
              "      <td>PT14</td>\n",
              "      <td>5/3/16</td>\n",
              "      <td>Nivolumab</td>\n",
              "      <td>240</td>\n",
              "    </tr>\n",
              "    <tr>\n",
              "      <th>18</th>\n",
              "      <td>PT15</td>\n",
              "      <td>5/7/16</td>\n",
              "      <td>Nivolumab</td>\n",
              "      <td>240</td>\n",
              "    </tr>\n",
              "    <tr>\n",
              "      <th>19</th>\n",
              "      <td>PT1</td>\n",
              "      <td>6/17/16</td>\n",
              "      <td>Nivolumab</td>\n",
              "      <td>240</td>\n",
              "    </tr>\n",
              "    <tr>\n",
              "      <th>20</th>\n",
              "      <td>PT17</td>\n",
              "      <td>6/17/16</td>\n",
              "      <td>Cisplatin</td>\n",
              "      <td>160</td>\n",
              "    </tr>\n",
              "    <tr>\n",
              "      <th>21</th>\n",
              "      <td>PT18</td>\n",
              "      <td>6/3/16</td>\n",
              "      <td>Nivolumab</td>\n",
              "      <td>240</td>\n",
              "    </tr>\n",
              "    <tr>\n",
              "      <th>22</th>\n",
              "      <td>PT19</td>\n",
              "      <td>6/2/16</td>\n",
              "      <td>Nivolumab</td>\n",
              "      <td>240</td>\n",
              "    </tr>\n",
              "    <tr>\n",
              "      <th>23</th>\n",
              "      <td>PT20</td>\n",
              "      <td>6/2/16</td>\n",
              "      <td>Nivolumab</td>\n",
              "      <td>240</td>\n",
              "    </tr>\n",
              "  </tbody>\n",
              "</table>\n",
              "</div>"
            ],
            "text/plain": [
              "   PatientID TreatmentStart       Drug  Dosage\n",
              "0        PT1        1/14/16  Cisplatin     200\n",
              "1       PT20         1/2/16  Cisplatin     140\n",
              "2        PT2        1/10/16  Cisplatin     180\n",
              "3        PT3        1/24/16  Cisplatin     140\n",
              "4        PT4        2/14/16  Cisplatin     200\n",
              "5       PT19        2/10/16  Cisplatin     180\n",
              "6        PT5         2/6/16  Cisplatin     190\n",
              "7        PT6         3/1/16  Cisplatin     180\n",
              "8        PT7         3/1/16  Cisplatin     210\n",
              "9        PT8        3/19/16  Cisplatin     180\n",
              "10       PT9        3/27/16  Nivolumab     240\n",
              "11      PT10         4/7/16  Nivolumab     240\n",
              "12      PT10         4/7/16  Cisplatin     140\n",
              "13      PT11        4/17/16  Cisplatin     190\n",
              "14      PT16         4/9/16  Cisplatin     160\n",
              "15      PT12        5/15/16  Cisplatin    1800\n",
              "16      PT13        5/21/16  Cisplatin     180\n",
              "17      PT14         5/3/16  Nivolumab     240\n",
              "18      PT15         5/7/16  Nivolumab     240\n",
              "19       PT1        6/17/16  Nivolumab     240\n",
              "20      PT17        6/17/16  Cisplatin     160\n",
              "21      PT18         6/3/16  Nivolumab     240\n",
              "22      PT19         6/2/16  Nivolumab     240\n",
              "23      PT20         6/2/16  Nivolumab     240"
            ]
          },
          "metadata": {
            "tags": []
          },
          "execution_count": 8
        }
      ]
    },
    {
      "cell_type": "code",
      "metadata": {
        "id": "dt0RPNmpnIyu",
        "colab_type": "code",
        "colab": {
          "base_uri": "https://localhost:8080/",
          "height": 204
        },
        "outputId": "a788efaa-f718-4b45-8f81-d04711002bc4"
      },
      "source": [
        "# The head(n) function shows the first n rows in a dataframe.\n",
        "# If no n is specified, it defaults to 5 rows.\n",
        "tx.head()"
      ],
      "execution_count": 9,
      "outputs": [
        {
          "output_type": "execute_result",
          "data": {
            "text/html": [
              "<div>\n",
              "<style scoped>\n",
              "    .dataframe tbody tr th:only-of-type {\n",
              "        vertical-align: middle;\n",
              "    }\n",
              "\n",
              "    .dataframe tbody tr th {\n",
              "        vertical-align: top;\n",
              "    }\n",
              "\n",
              "    .dataframe thead th {\n",
              "        text-align: right;\n",
              "    }\n",
              "</style>\n",
              "<table border=\"1\" class=\"dataframe\">\n",
              "  <thead>\n",
              "    <tr style=\"text-align: right;\">\n",
              "      <th></th>\n",
              "      <th>PatientID</th>\n",
              "      <th>TreatmentStart</th>\n",
              "      <th>Drug</th>\n",
              "      <th>Dosage</th>\n",
              "    </tr>\n",
              "  </thead>\n",
              "  <tbody>\n",
              "    <tr>\n",
              "      <th>0</th>\n",
              "      <td>PT1</td>\n",
              "      <td>1/14/16</td>\n",
              "      <td>Cisplatin</td>\n",
              "      <td>200</td>\n",
              "    </tr>\n",
              "    <tr>\n",
              "      <th>1</th>\n",
              "      <td>PT20</td>\n",
              "      <td>1/2/16</td>\n",
              "      <td>Cisplatin</td>\n",
              "      <td>140</td>\n",
              "    </tr>\n",
              "    <tr>\n",
              "      <th>2</th>\n",
              "      <td>PT2</td>\n",
              "      <td>1/10/16</td>\n",
              "      <td>Cisplatin</td>\n",
              "      <td>180</td>\n",
              "    </tr>\n",
              "    <tr>\n",
              "      <th>3</th>\n",
              "      <td>PT3</td>\n",
              "      <td>1/24/16</td>\n",
              "      <td>Cisplatin</td>\n",
              "      <td>140</td>\n",
              "    </tr>\n",
              "    <tr>\n",
              "      <th>4</th>\n",
              "      <td>PT4</td>\n",
              "      <td>2/14/16</td>\n",
              "      <td>Cisplatin</td>\n",
              "      <td>200</td>\n",
              "    </tr>\n",
              "  </tbody>\n",
              "</table>\n",
              "</div>"
            ],
            "text/plain": [
              "  PatientID TreatmentStart       Drug  Dosage\n",
              "0       PT1        1/14/16  Cisplatin     200\n",
              "1      PT20         1/2/16  Cisplatin     140\n",
              "2       PT2        1/10/16  Cisplatin     180\n",
              "3       PT3        1/24/16  Cisplatin     140\n",
              "4       PT4        2/14/16  Cisplatin     200"
            ]
          },
          "metadata": {
            "tags": []
          },
          "execution_count": 9
        }
      ]
    },
    {
      "cell_type": "code",
      "metadata": {
        "id": "VlmHfunenOr5",
        "colab_type": "code",
        "colab": {
          "base_uri": "https://localhost:8080/",
          "height": 204
        },
        "outputId": "dd7d3c23-d2b2-4163-8d6f-1df6ad1e9106"
      },
      "source": [
        "# You can also use the sample() function to get n random rows in the dataframe\n",
        "# NOTE: sample() only works in newer versions of pandas (0.16.1 and upwards)\n",
        "tx.sample(5)"
      ],
      "execution_count": 10,
      "outputs": [
        {
          "output_type": "execute_result",
          "data": {
            "text/html": [
              "<div>\n",
              "<style scoped>\n",
              "    .dataframe tbody tr th:only-of-type {\n",
              "        vertical-align: middle;\n",
              "    }\n",
              "\n",
              "    .dataframe tbody tr th {\n",
              "        vertical-align: top;\n",
              "    }\n",
              "\n",
              "    .dataframe thead th {\n",
              "        text-align: right;\n",
              "    }\n",
              "</style>\n",
              "<table border=\"1\" class=\"dataframe\">\n",
              "  <thead>\n",
              "    <tr style=\"text-align: right;\">\n",
              "      <th></th>\n",
              "      <th>PatientID</th>\n",
              "      <th>TreatmentStart</th>\n",
              "      <th>Drug</th>\n",
              "      <th>Dosage</th>\n",
              "    </tr>\n",
              "  </thead>\n",
              "  <tbody>\n",
              "    <tr>\n",
              "      <th>9</th>\n",
              "      <td>PT8</td>\n",
              "      <td>3/19/16</td>\n",
              "      <td>Cisplatin</td>\n",
              "      <td>180</td>\n",
              "    </tr>\n",
              "    <tr>\n",
              "      <th>18</th>\n",
              "      <td>PT15</td>\n",
              "      <td>5/7/16</td>\n",
              "      <td>Nivolumab</td>\n",
              "      <td>240</td>\n",
              "    </tr>\n",
              "    <tr>\n",
              "      <th>17</th>\n",
              "      <td>PT14</td>\n",
              "      <td>5/3/16</td>\n",
              "      <td>Nivolumab</td>\n",
              "      <td>240</td>\n",
              "    </tr>\n",
              "    <tr>\n",
              "      <th>14</th>\n",
              "      <td>PT16</td>\n",
              "      <td>4/9/16</td>\n",
              "      <td>Cisplatin</td>\n",
              "      <td>160</td>\n",
              "    </tr>\n",
              "    <tr>\n",
              "      <th>22</th>\n",
              "      <td>PT19</td>\n",
              "      <td>6/2/16</td>\n",
              "      <td>Nivolumab</td>\n",
              "      <td>240</td>\n",
              "    </tr>\n",
              "  </tbody>\n",
              "</table>\n",
              "</div>"
            ],
            "text/plain": [
              "   PatientID TreatmentStart       Drug  Dosage\n",
              "9        PT8        3/19/16  Cisplatin     180\n",
              "18      PT15         5/7/16  Nivolumab     240\n",
              "17      PT14         5/3/16  Nivolumab     240\n",
              "14      PT16         4/9/16  Cisplatin     160\n",
              "22      PT19         6/2/16  Nivolumab     240"
            ]
          },
          "metadata": {
            "tags": []
          },
          "execution_count": 10
        }
      ]
    },
    {
      "cell_type": "code",
      "metadata": {
        "id": "NCDidqwLnSlY",
        "colab_type": "code",
        "colab": {
          "base_uri": "https://localhost:8080/",
          "height": 34
        },
        "outputId": "dc03ddc0-7bd4-41b6-afaa-33fa1a1516bf"
      },
      "source": [
        "# Then len function gives us the number of rows in the dataframe\n",
        "len(tx)"
      ],
      "execution_count": 11,
      "outputs": [
        {
          "output_type": "execute_result",
          "data": {
            "text/plain": [
              "24"
            ]
          },
          "metadata": {
            "tags": []
          },
          "execution_count": 11
        }
      ]
    },
    {
      "cell_type": "code",
      "metadata": {
        "id": "tJeWiy-1nV2b",
        "colab_type": "code",
        "colab": {
          "base_uri": "https://localhost:8080/",
          "height": 102
        },
        "outputId": "e8c3ab25-4288-4da5-ba1a-2020f3908b2a"
      },
      "source": [
        "# The dtypes property of a dataframe shows the datatypes of every column in a dataframe.\n",
        "tx.dtypes"
      ],
      "execution_count": 12,
      "outputs": [
        {
          "output_type": "execute_result",
          "data": {
            "text/plain": [
              "PatientID         object\n",
              "TreatmentStart    object\n",
              "Drug              object\n",
              "Dosage             int64\n",
              "dtype: object"
            ]
          },
          "metadata": {
            "tags": []
          },
          "execution_count": 12
        }
      ]
    },
    {
      "cell_type": "code",
      "metadata": {
        "id": "fOasB5m0naFG",
        "colab_type": "code",
        "colab": {
          "base_uri": "https://localhost:8080/",
          "height": 34
        },
        "outputId": "fb605d5f-e6ce-4a25-bf1f-4598eb359f8a"
      },
      "source": [
        "# The columns attribute of a dataframe contains the column names\n",
        "# We'll talk about the \"Index\" later!\n",
        "tx.columns"
      ],
      "execution_count": 13,
      "outputs": [
        {
          "output_type": "execute_result",
          "data": {
            "text/plain": [
              "Index(['PatientID', 'TreatmentStart', 'Drug', 'Dosage'], dtype='object')"
            ]
          },
          "metadata": {
            "tags": []
          },
          "execution_count": 13
        }
      ]
    },
    {
      "cell_type": "code",
      "metadata": {
        "id": "qCSCvKo4ndU3",
        "colab_type": "code",
        "colab": {
          "base_uri": "https://localhost:8080/",
          "height": 297
        },
        "outputId": "28273cbe-cbad-4547-c495-57597065cb93"
      },
      "source": [
        "# The describe function shows some basic statistics for numeric columns\n",
        "# We only have one here, so this isn't very interesting\n",
        "tx.describe()"
      ],
      "execution_count": 14,
      "outputs": [
        {
          "output_type": "execute_result",
          "data": {
            "text/html": [
              "<div>\n",
              "<style scoped>\n",
              "    .dataframe tbody tr th:only-of-type {\n",
              "        vertical-align: middle;\n",
              "    }\n",
              "\n",
              "    .dataframe tbody tr th {\n",
              "        vertical-align: top;\n",
              "    }\n",
              "\n",
              "    .dataframe thead th {\n",
              "        text-align: right;\n",
              "    }\n",
              "</style>\n",
              "<table border=\"1\" class=\"dataframe\">\n",
              "  <thead>\n",
              "    <tr style=\"text-align: right;\">\n",
              "      <th></th>\n",
              "      <th>Dosage</th>\n",
              "    </tr>\n",
              "  </thead>\n",
              "  <tbody>\n",
              "    <tr>\n",
              "      <th>count</th>\n",
              "      <td>24.000000</td>\n",
              "    </tr>\n",
              "    <tr>\n",
              "      <th>mean</th>\n",
              "      <td>264.583333</td>\n",
              "    </tr>\n",
              "    <tr>\n",
              "      <th>std</th>\n",
              "      <td>328.963843</td>\n",
              "    </tr>\n",
              "    <tr>\n",
              "      <th>min</th>\n",
              "      <td>140.000000</td>\n",
              "    </tr>\n",
              "    <tr>\n",
              "      <th>25%</th>\n",
              "      <td>180.000000</td>\n",
              "    </tr>\n",
              "    <tr>\n",
              "      <th>50%</th>\n",
              "      <td>195.000000</td>\n",
              "    </tr>\n",
              "    <tr>\n",
              "      <th>75%</th>\n",
              "      <td>240.000000</td>\n",
              "    </tr>\n",
              "    <tr>\n",
              "      <th>max</th>\n",
              "      <td>1800.000000</td>\n",
              "    </tr>\n",
              "  </tbody>\n",
              "</table>\n",
              "</div>"
            ],
            "text/plain": [
              "            Dosage\n",
              "count    24.000000\n",
              "mean    264.583333\n",
              "std     328.963843\n",
              "min     140.000000\n",
              "25%     180.000000\n",
              "50%     195.000000\n",
              "75%     240.000000\n",
              "max    1800.000000"
            ]
          },
          "metadata": {
            "tags": []
          },
          "execution_count": 14
        }
      ]
    },
    {
      "cell_type": "code",
      "metadata": {
        "id": "5kvbkvnZnjvi",
        "colab_type": "code",
        "colab": {
          "base_uri": "https://localhost:8080/",
          "height": 359
        },
        "outputId": "c385ee8d-a4c0-47ff-e893-873643af5fb9"
      },
      "source": [
        "tx.head(10)"
      ],
      "execution_count": 30,
      "outputs": [
        {
          "output_type": "execute_result",
          "data": {
            "text/html": [
              "<div>\n",
              "<style scoped>\n",
              "    .dataframe tbody tr th:only-of-type {\n",
              "        vertical-align: middle;\n",
              "    }\n",
              "\n",
              "    .dataframe tbody tr th {\n",
              "        vertical-align: top;\n",
              "    }\n",
              "\n",
              "    .dataframe thead th {\n",
              "        text-align: right;\n",
              "    }\n",
              "</style>\n",
              "<table border=\"1\" class=\"dataframe\">\n",
              "  <thead>\n",
              "    <tr style=\"text-align: right;\">\n",
              "      <th></th>\n",
              "      <th>PatientID</th>\n",
              "      <th>TreatmentStart</th>\n",
              "      <th>Drug</th>\n",
              "      <th>Dosage</th>\n",
              "    </tr>\n",
              "  </thead>\n",
              "  <tbody>\n",
              "    <tr>\n",
              "      <th>0</th>\n",
              "      <td>PT1</td>\n",
              "      <td>1/14/16</td>\n",
              "      <td>Cisplatin</td>\n",
              "      <td>200</td>\n",
              "    </tr>\n",
              "    <tr>\n",
              "      <th>1</th>\n",
              "      <td>PT20</td>\n",
              "      <td>1/2/16</td>\n",
              "      <td>Cisplatin</td>\n",
              "      <td>140</td>\n",
              "    </tr>\n",
              "    <tr>\n",
              "      <th>2</th>\n",
              "      <td>PT2</td>\n",
              "      <td>1/10/16</td>\n",
              "      <td>Cisplatin</td>\n",
              "      <td>180</td>\n",
              "    </tr>\n",
              "    <tr>\n",
              "      <th>3</th>\n",
              "      <td>PT3</td>\n",
              "      <td>1/24/16</td>\n",
              "      <td>Cisplatin</td>\n",
              "      <td>140</td>\n",
              "    </tr>\n",
              "    <tr>\n",
              "      <th>4</th>\n",
              "      <td>PT4</td>\n",
              "      <td>2/14/16</td>\n",
              "      <td>Cisplatin</td>\n",
              "      <td>200</td>\n",
              "    </tr>\n",
              "    <tr>\n",
              "      <th>5</th>\n",
              "      <td>PT19</td>\n",
              "      <td>2/10/16</td>\n",
              "      <td>Cisplatin</td>\n",
              "      <td>180</td>\n",
              "    </tr>\n",
              "    <tr>\n",
              "      <th>6</th>\n",
              "      <td>PT5</td>\n",
              "      <td>2/6/16</td>\n",
              "      <td>Cisplatin</td>\n",
              "      <td>190</td>\n",
              "    </tr>\n",
              "    <tr>\n",
              "      <th>7</th>\n",
              "      <td>PT6</td>\n",
              "      <td>3/1/16</td>\n",
              "      <td>Cisplatin</td>\n",
              "      <td>180</td>\n",
              "    </tr>\n",
              "    <tr>\n",
              "      <th>8</th>\n",
              "      <td>PT7</td>\n",
              "      <td>3/1/16</td>\n",
              "      <td>Cisplatin</td>\n",
              "      <td>210</td>\n",
              "    </tr>\n",
              "    <tr>\n",
              "      <th>9</th>\n",
              "      <td>PT8</td>\n",
              "      <td>3/19/16</td>\n",
              "      <td>Cisplatin</td>\n",
              "      <td>180</td>\n",
              "    </tr>\n",
              "  </tbody>\n",
              "</table>\n",
              "</div>"
            ],
            "text/plain": [
              "  PatientID TreatmentStart       Drug  Dosage\n",
              "0       PT1        1/14/16  Cisplatin     200\n",
              "1      PT20         1/2/16  Cisplatin     140\n",
              "2       PT2        1/10/16  Cisplatin     180\n",
              "3       PT3        1/24/16  Cisplatin     140\n",
              "4       PT4        2/14/16  Cisplatin     200\n",
              "5      PT19        2/10/16  Cisplatin     180\n",
              "6       PT5         2/6/16  Cisplatin     190\n",
              "7       PT6         3/1/16  Cisplatin     180\n",
              "8       PT7         3/1/16  Cisplatin     210\n",
              "9       PT8        3/19/16  Cisplatin     180"
            ]
          },
          "metadata": {
            "tags": []
          },
          "execution_count": 30
        }
      ]
    },
    {
      "cell_type": "code",
      "metadata": {
        "id": "dK96AEhqoem7",
        "colab_type": "code",
        "colab": {
          "base_uri": "https://localhost:8080/",
          "height": 119
        },
        "outputId": "12768882-e36d-47f7-e260-2fd58399c15d"
      },
      "source": [
        "# Return the PatientID column as a Series\n",
        "tx['PatientID'].head()\n",
        "# Return the PatientID column as a Series\n",
        "#tx['PatientID']"
      ],
      "execution_count": 31,
      "outputs": [
        {
          "output_type": "execute_result",
          "data": {
            "text/plain": [
              "0     PT1\n",
              "1    PT20\n",
              "2     PT2\n",
              "3     PT3\n",
              "4     PT4\n",
              "Name: PatientID, dtype: object"
            ]
          },
          "metadata": {
            "tags": []
          },
          "execution_count": 31
        }
      ]
    },
    {
      "cell_type": "code",
      "metadata": {
        "id": "Rcv_PssQo7XG",
        "colab_type": "code",
        "colab": {
          "base_uri": "https://localhost:8080/",
          "height": 34
        },
        "outputId": "b359deb2-95a3-4635-cd5e-ce3010428bd3"
      },
      "source": [
        "# Check the type to show that this indeed returns a Series object\n",
        "type(tx['PatientID'])"
      ],
      "execution_count": 32,
      "outputs": [
        {
          "output_type": "execute_result",
          "data": {
            "text/plain": [
              "pandas.core.series.Series"
            ]
          },
          "metadata": {
            "tags": []
          },
          "execution_count": 32
        }
      ]
    },
    {
      "cell_type": "code",
      "metadata": {
        "id": "WbyPRmW8pBxg",
        "colab_type": "code",
        "colab": {
          "base_uri": "https://localhost:8080/",
          "height": 119
        },
        "outputId": "abd7f8a7-703d-47fb-d2c9-f070cdbb7dd8"
      },
      "source": [
        "# The alternative notation for accessing a column in a dataframe\n",
        "# Some people prefer the . notation, others the [] notation.\n",
        "# Personally, I prefer using [] for visibility and consistency\n",
        "tx.PatientID.head()"
      ],
      "execution_count": 33,
      "outputs": [
        {
          "output_type": "execute_result",
          "data": {
            "text/plain": [
              "0     PT1\n",
              "1    PT20\n",
              "2     PT2\n",
              "3     PT3\n",
              "4     PT4\n",
              "Name: PatientID, dtype: object"
            ]
          },
          "metadata": {
            "tags": []
          },
          "execution_count": 33
        }
      ]
    },
    {
      "cell_type": "code",
      "metadata": {
        "id": "It9ot8grpF9_",
        "colab_type": "code",
        "colab": {
          "base_uri": "https://localhost:8080/",
          "height": 204
        },
        "outputId": "ec05bbe7-6360-481c-b9d8-099f88bbe580"
      },
      "source": [
        "# And this is how you access two columns of a dataframe.\n",
        "# Note that this will return a dataframe again, not a series (because a series has only one column...)\n",
        "# Also note the double square brackets - you're passing a *list* of columns as an argument\n",
        "tx[['PatientID', 'Dosage']].head()"
      ],
      "execution_count": 34,
      "outputs": [
        {
          "output_type": "execute_result",
          "data": {
            "text/html": [
              "<div>\n",
              "<style scoped>\n",
              "    .dataframe tbody tr th:only-of-type {\n",
              "        vertical-align: middle;\n",
              "    }\n",
              "\n",
              "    .dataframe tbody tr th {\n",
              "        vertical-align: top;\n",
              "    }\n",
              "\n",
              "    .dataframe thead th {\n",
              "        text-align: right;\n",
              "    }\n",
              "</style>\n",
              "<table border=\"1\" class=\"dataframe\">\n",
              "  <thead>\n",
              "    <tr style=\"text-align: right;\">\n",
              "      <th></th>\n",
              "      <th>PatientID</th>\n",
              "      <th>Dosage</th>\n",
              "    </tr>\n",
              "  </thead>\n",
              "  <tbody>\n",
              "    <tr>\n",
              "      <th>0</th>\n",
              "      <td>PT1</td>\n",
              "      <td>200</td>\n",
              "    </tr>\n",
              "    <tr>\n",
              "      <th>1</th>\n",
              "      <td>PT20</td>\n",
              "      <td>140</td>\n",
              "    </tr>\n",
              "    <tr>\n",
              "      <th>2</th>\n",
              "      <td>PT2</td>\n",
              "      <td>180</td>\n",
              "    </tr>\n",
              "    <tr>\n",
              "      <th>3</th>\n",
              "      <td>PT3</td>\n",
              "      <td>140</td>\n",
              "    </tr>\n",
              "    <tr>\n",
              "      <th>4</th>\n",
              "      <td>PT4</td>\n",
              "      <td>200</td>\n",
              "    </tr>\n",
              "  </tbody>\n",
              "</table>\n",
              "</div>"
            ],
            "text/plain": [
              "  PatientID  Dosage\n",
              "0       PT1     200\n",
              "1      PT20     140\n",
              "2       PT2     180\n",
              "3       PT3     140\n",
              "4       PT4     200"
            ]
          },
          "metadata": {
            "tags": []
          },
          "execution_count": 34
        }
      ]
    },
    {
      "cell_type": "code",
      "metadata": {
        "id": "TtMUAcnTpPEJ",
        "colab_type": "code",
        "colab": {
          "base_uri": "https://localhost:8080/",
          "height": 34
        },
        "outputId": "e89e7d11-ccb6-448f-e7f5-00be75ddaaf3"
      },
      "source": [
        "# Check the type to confirm that this returns a DataFrame type\n",
        "type(tx[['PatientID', 'TreatmentStart']])"
      ],
      "execution_count": 35,
      "outputs": [
        {
          "output_type": "execute_result",
          "data": {
            "text/plain": [
              "pandas.core.frame.DataFrame"
            ]
          },
          "metadata": {
            "tags": []
          },
          "execution_count": 35
        }
      ]
    },
    {
      "cell_type": "code",
      "metadata": {
        "id": "weNzDyNGpTuy",
        "colab_type": "code",
        "colab": {
          "base_uri": "https://localhost:8080/",
          "height": 357
        },
        "outputId": "d8c25b02-291a-4895-df83-6c0f132b8e71"
      },
      "source": [
        "# This way we can now do some more data exploration, e.g. looking at unique patient IDs\n",
        "sorted(tx['PatientID'].unique())"
      ],
      "execution_count": 36,
      "outputs": [
        {
          "output_type": "execute_result",
          "data": {
            "text/plain": [
              "['PT1',\n",
              " 'PT10',\n",
              " 'PT11',\n",
              " 'PT12',\n",
              " 'PT13',\n",
              " 'PT14',\n",
              " 'PT15',\n",
              " 'PT16',\n",
              " 'PT17',\n",
              " 'PT18',\n",
              " 'PT19',\n",
              " 'PT2',\n",
              " 'PT20',\n",
              " 'PT3',\n",
              " 'PT4',\n",
              " 'PT5',\n",
              " 'PT6',\n",
              " 'PT7',\n",
              " 'PT8',\n",
              " 'PT9']"
            ]
          },
          "metadata": {
            "tags": []
          },
          "execution_count": 36
        }
      ]
    },
    {
      "cell_type": "code",
      "metadata": {
        "id": "VMyEPo57p6bN",
        "colab_type": "code",
        "colab": {
          "base_uri": "https://localhost:8080/",
          "height": 34
        },
        "outputId": "ae18097d-9427-4e44-ff51-764e27c14f57"
      },
      "source": [
        "sorted(tx['Dosage'].unique())"
      ],
      "execution_count": 37,
      "outputs": [
        {
          "output_type": "execute_result",
          "data": {
            "text/plain": [
              "[140, 160, 180, 190, 200, 210, 240, 1800]"
            ]
          },
          "metadata": {
            "tags": []
          },
          "execution_count": 37
        }
      ]
    },
    {
      "cell_type": "code",
      "metadata": {
        "id": "fVZzlcWTqODu",
        "colab_type": "code",
        "colab": {
          "base_uri": "https://localhost:8080/",
          "height": 34
        },
        "outputId": "978b4b7b-a3ed-422e-8b93-d475e4a10abd"
      },
      "source": [
        "tx['Dosage'].unique()"
      ],
      "execution_count": 38,
      "outputs": [
        {
          "output_type": "execute_result",
          "data": {
            "text/plain": [
              "array([ 200,  140,  180,  190,  210,  240,  160, 1800])"
            ]
          },
          "metadata": {
            "tags": []
          },
          "execution_count": 38
        }
      ]
    },
    {
      "cell_type": "code",
      "metadata": {
        "id": "pswtMMXrqlDN",
        "colab_type": "code",
        "colab": {
          "base_uri": "https://localhost:8080/",
          "height": 111
        },
        "outputId": "304362d1-69c0-46d6-e73f-8de7ae2ead9d"
      },
      "source": [
        "# Access the record(s) for a specific patient ID\n",
        "tx.loc[tx['PatientID'] == 'PT20']"
      ],
      "execution_count": 39,
      "outputs": [
        {
          "output_type": "execute_result",
          "data": {
            "text/html": [
              "<div>\n",
              "<style scoped>\n",
              "    .dataframe tbody tr th:only-of-type {\n",
              "        vertical-align: middle;\n",
              "    }\n",
              "\n",
              "    .dataframe tbody tr th {\n",
              "        vertical-align: top;\n",
              "    }\n",
              "\n",
              "    .dataframe thead th {\n",
              "        text-align: right;\n",
              "    }\n",
              "</style>\n",
              "<table border=\"1\" class=\"dataframe\">\n",
              "  <thead>\n",
              "    <tr style=\"text-align: right;\">\n",
              "      <th></th>\n",
              "      <th>PatientID</th>\n",
              "      <th>TreatmentStart</th>\n",
              "      <th>Drug</th>\n",
              "      <th>Dosage</th>\n",
              "    </tr>\n",
              "  </thead>\n",
              "  <tbody>\n",
              "    <tr>\n",
              "      <th>1</th>\n",
              "      <td>PT20</td>\n",
              "      <td>1/2/16</td>\n",
              "      <td>Cisplatin</td>\n",
              "      <td>140</td>\n",
              "    </tr>\n",
              "    <tr>\n",
              "      <th>23</th>\n",
              "      <td>PT20</td>\n",
              "      <td>6/2/16</td>\n",
              "      <td>Nivolumab</td>\n",
              "      <td>240</td>\n",
              "    </tr>\n",
              "  </tbody>\n",
              "</table>\n",
              "</div>"
            ],
            "text/plain": [
              "   PatientID TreatmentStart       Drug  Dosage\n",
              "1       PT20         1/2/16  Cisplatin     140\n",
              "23      PT20         6/2/16  Nivolumab     240"
            ]
          },
          "metadata": {
            "tags": []
          },
          "execution_count": 39
        }
      ]
    },
    {
      "cell_type": "code",
      "metadata": {
        "id": "CuCdXEo_qqTM",
        "colab_type": "code",
        "colab": {
          "base_uri": "https://localhost:8080/",
          "height": 102
        },
        "outputId": "773bb1ba-1eee-4daa-c22f-8047be7e43d0"
      },
      "source": [
        "# Access the record(s) for a specific patient ID\n",
        "tx.loc[3]"
      ],
      "execution_count": 40,
      "outputs": [
        {
          "output_type": "execute_result",
          "data": {
            "text/plain": [
              "PatientID               PT3\n",
              "TreatmentStart      1/24/16\n",
              "Drug              Cisplatin\n",
              "Dosage                  140\n",
              "Name: 3, dtype: object"
            ]
          },
          "metadata": {
            "tags": []
          },
          "execution_count": 40
        }
      ]
    },
    {
      "cell_type": "code",
      "metadata": {
        "id": "gtcrEVIwrGvP",
        "colab_type": "code",
        "colab": {
          "base_uri": "https://localhost:8080/",
          "height": 111
        },
        "outputId": "d4ebe8d7-6572-423a-fd78-32bd707fa00a"
      },
      "source": [
        "# This is equivalent to the following shorter notation\n",
        "# I prefer to always use loc to be more explicit\n",
        "tx[tx['PatientID'] == 'PT20']"
      ],
      "execution_count": 41,
      "outputs": [
        {
          "output_type": "execute_result",
          "data": {
            "text/html": [
              "<div>\n",
              "<style scoped>\n",
              "    .dataframe tbody tr th:only-of-type {\n",
              "        vertical-align: middle;\n",
              "    }\n",
              "\n",
              "    .dataframe tbody tr th {\n",
              "        vertical-align: top;\n",
              "    }\n",
              "\n",
              "    .dataframe thead th {\n",
              "        text-align: right;\n",
              "    }\n",
              "</style>\n",
              "<table border=\"1\" class=\"dataframe\">\n",
              "  <thead>\n",
              "    <tr style=\"text-align: right;\">\n",
              "      <th></th>\n",
              "      <th>PatientID</th>\n",
              "      <th>TreatmentStart</th>\n",
              "      <th>Drug</th>\n",
              "      <th>Dosage</th>\n",
              "    </tr>\n",
              "  </thead>\n",
              "  <tbody>\n",
              "    <tr>\n",
              "      <th>1</th>\n",
              "      <td>PT20</td>\n",
              "      <td>1/2/16</td>\n",
              "      <td>Cisplatin</td>\n",
              "      <td>140</td>\n",
              "    </tr>\n",
              "    <tr>\n",
              "      <th>23</th>\n",
              "      <td>PT20</td>\n",
              "      <td>6/2/16</td>\n",
              "      <td>Nivolumab</td>\n",
              "      <td>240</td>\n",
              "    </tr>\n",
              "  </tbody>\n",
              "</table>\n",
              "</div>"
            ],
            "text/plain": [
              "   PatientID TreatmentStart       Drug  Dosage\n",
              "1       PT20         1/2/16  Cisplatin     140\n",
              "23      PT20         6/2/16  Nivolumab     240"
            ]
          },
          "metadata": {
            "tags": []
          },
          "execution_count": 41
        }
      ]
    },
    {
      "cell_type": "code",
      "metadata": {
        "id": "S_YFidzJrIaT",
        "colab_type": "code",
        "colab": {
          "base_uri": "https://localhost:8080/",
          "height": 80
        },
        "outputId": "00f16b2b-8977-41e6-af1b-463942a849ce"
      },
      "source": [
        "# You can also use boolean conditions in the selector\n",
        "tx.loc[(tx['PatientID'] == 'PT20') & (tx['Drug'] == 'Cisplatin')]"
      ],
      "execution_count": 45,
      "outputs": [
        {
          "output_type": "execute_result",
          "data": {
            "text/html": [
              "<div>\n",
              "<style scoped>\n",
              "    .dataframe tbody tr th:only-of-type {\n",
              "        vertical-align: middle;\n",
              "    }\n",
              "\n",
              "    .dataframe tbody tr th {\n",
              "        vertical-align: top;\n",
              "    }\n",
              "\n",
              "    .dataframe thead th {\n",
              "        text-align: right;\n",
              "    }\n",
              "</style>\n",
              "<table border=\"1\" class=\"dataframe\">\n",
              "  <thead>\n",
              "    <tr style=\"text-align: right;\">\n",
              "      <th></th>\n",
              "      <th>PatientID</th>\n",
              "      <th>TreatmentStart</th>\n",
              "      <th>Drug</th>\n",
              "      <th>Dosage</th>\n",
              "    </tr>\n",
              "  </thead>\n",
              "  <tbody>\n",
              "    <tr>\n",
              "      <th>1</th>\n",
              "      <td>PT20</td>\n",
              "      <td>1/2/16</td>\n",
              "      <td>Cisplatin</td>\n",
              "      <td>140</td>\n",
              "    </tr>\n",
              "  </tbody>\n",
              "</table>\n",
              "</div>"
            ],
            "text/plain": [
              "  PatientID TreatmentStart       Drug  Dosage\n",
              "1      PT20         1/2/16  Cisplatin     140"
            ]
          },
          "metadata": {
            "tags": []
          },
          "execution_count": 45
        }
      ]
    },
    {
      "cell_type": "code",
      "metadata": {
        "id": "qEpaPW1FrWKd",
        "colab_type": "code",
        "colab": {
          "base_uri": "https://localhost:8080/",
          "height": 102
        },
        "outputId": "2bf3a7fb-4440-4144-b87b-9fef81481cd4"
      },
      "source": [
        "# You can also use boolean conditions in the selector\n",
        "tx.loc[3]"
      ],
      "execution_count": 50,
      "outputs": [
        {
          "output_type": "execute_result",
          "data": {
            "text/plain": [
              "PatientID               PT3\n",
              "TreatmentStart      1/24/16\n",
              "Drug              Cisplatin\n",
              "Dosage                  140\n",
              "Name: 3, dtype: object"
            ]
          },
          "metadata": {
            "tags": []
          },
          "execution_count": 50
        }
      ]
    },
    {
      "cell_type": "code",
      "metadata": {
        "id": "26rf3XqcroxY",
        "colab_type": "code",
        "colab": {
          "base_uri": "https://localhost:8080/",
          "height": 204
        },
        "outputId": "ba22630b-23e7-40ef-fe40-529fef89832d"
      },
      "source": [
        "# Create a new cell below and show all rows where the drug dosage for Cisplatin is less than 180.\n",
        "tx.loc[(tx['Drug'] == 'Cisplatin') & (tx['Dosage'] < 180)]"
      ],
      "execution_count": 54,
      "outputs": [
        {
          "output_type": "execute_result",
          "data": {
            "text/html": [
              "<div>\n",
              "<style scoped>\n",
              "    .dataframe tbody tr th:only-of-type {\n",
              "        vertical-align: middle;\n",
              "    }\n",
              "\n",
              "    .dataframe tbody tr th {\n",
              "        vertical-align: top;\n",
              "    }\n",
              "\n",
              "    .dataframe thead th {\n",
              "        text-align: right;\n",
              "    }\n",
              "</style>\n",
              "<table border=\"1\" class=\"dataframe\">\n",
              "  <thead>\n",
              "    <tr style=\"text-align: right;\">\n",
              "      <th></th>\n",
              "      <th>PatientID</th>\n",
              "      <th>TreatmentStart</th>\n",
              "      <th>Drug</th>\n",
              "      <th>Dosage</th>\n",
              "    </tr>\n",
              "  </thead>\n",
              "  <tbody>\n",
              "    <tr>\n",
              "      <th>1</th>\n",
              "      <td>PT20</td>\n",
              "      <td>1/2/16</td>\n",
              "      <td>Cisplatin</td>\n",
              "      <td>140</td>\n",
              "    </tr>\n",
              "    <tr>\n",
              "      <th>3</th>\n",
              "      <td>PT3</td>\n",
              "      <td>1/24/16</td>\n",
              "      <td>Cisplatin</td>\n",
              "      <td>140</td>\n",
              "    </tr>\n",
              "    <tr>\n",
              "      <th>12</th>\n",
              "      <td>PT10</td>\n",
              "      <td>4/7/16</td>\n",
              "      <td>Cisplatin</td>\n",
              "      <td>140</td>\n",
              "    </tr>\n",
              "    <tr>\n",
              "      <th>14</th>\n",
              "      <td>PT16</td>\n",
              "      <td>4/9/16</td>\n",
              "      <td>Cisplatin</td>\n",
              "      <td>160</td>\n",
              "    </tr>\n",
              "    <tr>\n",
              "      <th>20</th>\n",
              "      <td>PT17</td>\n",
              "      <td>6/17/16</td>\n",
              "      <td>Cisplatin</td>\n",
              "      <td>160</td>\n",
              "    </tr>\n",
              "  </tbody>\n",
              "</table>\n",
              "</div>"
            ],
            "text/plain": [
              "   PatientID TreatmentStart       Drug  Dosage\n",
              "1       PT20         1/2/16  Cisplatin     140\n",
              "3        PT3        1/24/16  Cisplatin     140\n",
              "12      PT10         4/7/16  Cisplatin     140\n",
              "14      PT16         4/9/16  Cisplatin     160\n",
              "20      PT17        6/17/16  Cisplatin     160"
            ]
          },
          "metadata": {
            "tags": []
          },
          "execution_count": 54
        }
      ]
    },
    {
      "cell_type": "code",
      "metadata": {
        "id": "4Ly8an0bsbMA",
        "colab_type": "code",
        "colab": {
          "base_uri": "https://localhost:8080/",
          "height": 204
        },
        "outputId": "e9bee6bb-c7c8-4c35-93b0-a4b1c2cf6a79"
      },
      "source": [
        "# Sort by earliest treatment start date, i.e. in ascending order\n",
        "tx.sort_values('TreatmentStart').head()\n",
        "\n",
        "# NOTE: sort_values only works in Pandas 0.17.0 and up. This is an older version:\n",
        "# tx.sort('TreatmentStart').head()"
      ],
      "execution_count": 58,
      "outputs": [
        {
          "output_type": "execute_result",
          "data": {
            "text/html": [
              "<div>\n",
              "<style scoped>\n",
              "    .dataframe tbody tr th:only-of-type {\n",
              "        vertical-align: middle;\n",
              "    }\n",
              "\n",
              "    .dataframe tbody tr th {\n",
              "        vertical-align: top;\n",
              "    }\n",
              "\n",
              "    .dataframe thead th {\n",
              "        text-align: right;\n",
              "    }\n",
              "</style>\n",
              "<table border=\"1\" class=\"dataframe\">\n",
              "  <thead>\n",
              "    <tr style=\"text-align: right;\">\n",
              "      <th></th>\n",
              "      <th>PatientID</th>\n",
              "      <th>TreatmentStart</th>\n",
              "      <th>Drug</th>\n",
              "      <th>Dosage</th>\n",
              "    </tr>\n",
              "  </thead>\n",
              "  <tbody>\n",
              "    <tr>\n",
              "      <th>2</th>\n",
              "      <td>PT2</td>\n",
              "      <td>1/10/16</td>\n",
              "      <td>Cisplatin</td>\n",
              "      <td>180</td>\n",
              "    </tr>\n",
              "    <tr>\n",
              "      <th>0</th>\n",
              "      <td>PT1</td>\n",
              "      <td>1/14/16</td>\n",
              "      <td>Cisplatin</td>\n",
              "      <td>200</td>\n",
              "    </tr>\n",
              "    <tr>\n",
              "      <th>1</th>\n",
              "      <td>PT20</td>\n",
              "      <td>1/2/16</td>\n",
              "      <td>Cisplatin</td>\n",
              "      <td>140</td>\n",
              "    </tr>\n",
              "    <tr>\n",
              "      <th>3</th>\n",
              "      <td>PT3</td>\n",
              "      <td>1/24/16</td>\n",
              "      <td>Cisplatin</td>\n",
              "      <td>140</td>\n",
              "    </tr>\n",
              "    <tr>\n",
              "      <th>5</th>\n",
              "      <td>PT19</td>\n",
              "      <td>2/10/16</td>\n",
              "      <td>Cisplatin</td>\n",
              "      <td>180</td>\n",
              "    </tr>\n",
              "  </tbody>\n",
              "</table>\n",
              "</div>"
            ],
            "text/plain": [
              "  PatientID TreatmentStart       Drug  Dosage\n",
              "2       PT2        1/10/16  Cisplatin     180\n",
              "0       PT1        1/14/16  Cisplatin     200\n",
              "1      PT20         1/2/16  Cisplatin     140\n",
              "3       PT3        1/24/16  Cisplatin     140\n",
              "5      PT19        2/10/16  Cisplatin     180"
            ]
          },
          "metadata": {
            "tags": []
          },
          "execution_count": 58
        }
      ]
    },
    {
      "cell_type": "code",
      "metadata": {
        "id": "n48UWYj8sj9v",
        "colab_type": "code",
        "colab": {
          "base_uri": "https://localhost:8080/",
          "height": 204
        },
        "outputId": "f5310e25-38a4-4a79-d8d4-199888c69c35"
      },
      "source": [
        "# Sort by latest treatment start, i.e. in descending order\n",
        "tx.sort_values('TreatmentStart', ascending=False).head()\n",
        "\n",
        "# NOTE: sort_values only works in Pandas 0.17.0 and up. This is an older version:\n",
        "# tx.sort('TreatmentStart', ascending=False).head()"
      ],
      "execution_count": 59,
      "outputs": [
        {
          "output_type": "execute_result",
          "data": {
            "text/html": [
              "<div>\n",
              "<style scoped>\n",
              "    .dataframe tbody tr th:only-of-type {\n",
              "        vertical-align: middle;\n",
              "    }\n",
              "\n",
              "    .dataframe tbody tr th {\n",
              "        vertical-align: top;\n",
              "    }\n",
              "\n",
              "    .dataframe thead th {\n",
              "        text-align: right;\n",
              "    }\n",
              "</style>\n",
              "<table border=\"1\" class=\"dataframe\">\n",
              "  <thead>\n",
              "    <tr style=\"text-align: right;\">\n",
              "      <th></th>\n",
              "      <th>PatientID</th>\n",
              "      <th>TreatmentStart</th>\n",
              "      <th>Drug</th>\n",
              "      <th>Dosage</th>\n",
              "    </tr>\n",
              "  </thead>\n",
              "  <tbody>\n",
              "    <tr>\n",
              "      <th>21</th>\n",
              "      <td>PT18</td>\n",
              "      <td>6/3/16</td>\n",
              "      <td>Nivolumab</td>\n",
              "      <td>240</td>\n",
              "    </tr>\n",
              "    <tr>\n",
              "      <th>23</th>\n",
              "      <td>PT20</td>\n",
              "      <td>6/2/16</td>\n",
              "      <td>Nivolumab</td>\n",
              "      <td>240</td>\n",
              "    </tr>\n",
              "    <tr>\n",
              "      <th>22</th>\n",
              "      <td>PT19</td>\n",
              "      <td>6/2/16</td>\n",
              "      <td>Nivolumab</td>\n",
              "      <td>240</td>\n",
              "    </tr>\n",
              "    <tr>\n",
              "      <th>20</th>\n",
              "      <td>PT17</td>\n",
              "      <td>6/17/16</td>\n",
              "      <td>Cisplatin</td>\n",
              "      <td>160</td>\n",
              "    </tr>\n",
              "    <tr>\n",
              "      <th>19</th>\n",
              "      <td>PT1</td>\n",
              "      <td>6/17/16</td>\n",
              "      <td>Nivolumab</td>\n",
              "      <td>240</td>\n",
              "    </tr>\n",
              "  </tbody>\n",
              "</table>\n",
              "</div>"
            ],
            "text/plain": [
              "   PatientID TreatmentStart       Drug  Dosage\n",
              "21      PT18         6/3/16  Nivolumab     240\n",
              "23      PT20         6/2/16  Nivolumab     240\n",
              "22      PT19         6/2/16  Nivolumab     240\n",
              "20      PT17        6/17/16  Cisplatin     160\n",
              "19       PT1        6/17/16  Nivolumab     240"
            ]
          },
          "metadata": {
            "tags": []
          },
          "execution_count": 59
        }
      ]
    },
    {
      "cell_type": "code",
      "metadata": {
        "id": "lFl6AB49soHI",
        "colab_type": "code",
        "colab": {
          "base_uri": "https://localhost:8080/",
          "height": 204
        },
        "outputId": "577036b4-b6e9-47a5-db1d-ff9bc7ebcb93"
      },
      "source": [
        "# Finally, you can also sort by a list of column. If you want to change the \n",
        "# ascending/descending orders, pass a list of booleans to the `ascending` parameter!\n",
        "tx.sort_values(['PatientID', 'TreatmentStart']).head()\n",
        "\n",
        "# NOTE: sort_values only works in Pandas 0.17.0 and up. This is an older version:\n",
        "# tx.sort(['PatientID', 'TreatmentStart']).head()"
      ],
      "execution_count": 60,
      "outputs": [
        {
          "output_type": "execute_result",
          "data": {
            "text/html": [
              "<div>\n",
              "<style scoped>\n",
              "    .dataframe tbody tr th:only-of-type {\n",
              "        vertical-align: middle;\n",
              "    }\n",
              "\n",
              "    .dataframe tbody tr th {\n",
              "        vertical-align: top;\n",
              "    }\n",
              "\n",
              "    .dataframe thead th {\n",
              "        text-align: right;\n",
              "    }\n",
              "</style>\n",
              "<table border=\"1\" class=\"dataframe\">\n",
              "  <thead>\n",
              "    <tr style=\"text-align: right;\">\n",
              "      <th></th>\n",
              "      <th>PatientID</th>\n",
              "      <th>TreatmentStart</th>\n",
              "      <th>Drug</th>\n",
              "      <th>Dosage</th>\n",
              "    </tr>\n",
              "  </thead>\n",
              "  <tbody>\n",
              "    <tr>\n",
              "      <th>0</th>\n",
              "      <td>PT1</td>\n",
              "      <td>1/14/16</td>\n",
              "      <td>Cisplatin</td>\n",
              "      <td>200</td>\n",
              "    </tr>\n",
              "    <tr>\n",
              "      <th>19</th>\n",
              "      <td>PT1</td>\n",
              "      <td>6/17/16</td>\n",
              "      <td>Nivolumab</td>\n",
              "      <td>240</td>\n",
              "    </tr>\n",
              "    <tr>\n",
              "      <th>11</th>\n",
              "      <td>PT10</td>\n",
              "      <td>4/7/16</td>\n",
              "      <td>Nivolumab</td>\n",
              "      <td>240</td>\n",
              "    </tr>\n",
              "    <tr>\n",
              "      <th>12</th>\n",
              "      <td>PT10</td>\n",
              "      <td>4/7/16</td>\n",
              "      <td>Cisplatin</td>\n",
              "      <td>140</td>\n",
              "    </tr>\n",
              "    <tr>\n",
              "      <th>13</th>\n",
              "      <td>PT11</td>\n",
              "      <td>4/17/16</td>\n",
              "      <td>Cisplatin</td>\n",
              "      <td>190</td>\n",
              "    </tr>\n",
              "  </tbody>\n",
              "</table>\n",
              "</div>"
            ],
            "text/plain": [
              "   PatientID TreatmentStart       Drug  Dosage\n",
              "0        PT1        1/14/16  Cisplatin     200\n",
              "19       PT1        6/17/16  Nivolumab     240\n",
              "11      PT10         4/7/16  Nivolumab     240\n",
              "12      PT10         4/7/16  Cisplatin     140\n",
              "13      PT11        4/17/16  Cisplatin     190"
            ]
          },
          "metadata": {
            "tags": []
          },
          "execution_count": 60
        }
      ]
    },
    {
      "cell_type": "code",
      "metadata": {
        "id": "dqyBc4answ45",
        "colab_type": "code",
        "colab": {
          "base_uri": "https://localhost:8080/",
          "height": 204
        },
        "outputId": "69277dc7-5a8b-4de5-fa38-694ab7cac9dc"
      },
      "source": [
        "# Show the dataframe\n",
        "tx.head()"
      ],
      "execution_count": 61,
      "outputs": [
        {
          "output_type": "execute_result",
          "data": {
            "text/html": [
              "<div>\n",
              "<style scoped>\n",
              "    .dataframe tbody tr th:only-of-type {\n",
              "        vertical-align: middle;\n",
              "    }\n",
              "\n",
              "    .dataframe tbody tr th {\n",
              "        vertical-align: top;\n",
              "    }\n",
              "\n",
              "    .dataframe thead th {\n",
              "        text-align: right;\n",
              "    }\n",
              "</style>\n",
              "<table border=\"1\" class=\"dataframe\">\n",
              "  <thead>\n",
              "    <tr style=\"text-align: right;\">\n",
              "      <th></th>\n",
              "      <th>PatientID</th>\n",
              "      <th>TreatmentStart</th>\n",
              "      <th>Drug</th>\n",
              "      <th>Dosage</th>\n",
              "    </tr>\n",
              "  </thead>\n",
              "  <tbody>\n",
              "    <tr>\n",
              "      <th>0</th>\n",
              "      <td>PT1</td>\n",
              "      <td>1/14/16</td>\n",
              "      <td>Cisplatin</td>\n",
              "      <td>200</td>\n",
              "    </tr>\n",
              "    <tr>\n",
              "      <th>1</th>\n",
              "      <td>PT20</td>\n",
              "      <td>1/2/16</td>\n",
              "      <td>Cisplatin</td>\n",
              "      <td>140</td>\n",
              "    </tr>\n",
              "    <tr>\n",
              "      <th>2</th>\n",
              "      <td>PT2</td>\n",
              "      <td>1/10/16</td>\n",
              "      <td>Cisplatin</td>\n",
              "      <td>180</td>\n",
              "    </tr>\n",
              "    <tr>\n",
              "      <th>3</th>\n",
              "      <td>PT3</td>\n",
              "      <td>1/24/16</td>\n",
              "      <td>Cisplatin</td>\n",
              "      <td>140</td>\n",
              "    </tr>\n",
              "    <tr>\n",
              "      <th>4</th>\n",
              "      <td>PT4</td>\n",
              "      <td>2/14/16</td>\n",
              "      <td>Cisplatin</td>\n",
              "      <td>200</td>\n",
              "    </tr>\n",
              "  </tbody>\n",
              "</table>\n",
              "</div>"
            ],
            "text/plain": [
              "  PatientID TreatmentStart       Drug  Dosage\n",
              "0       PT1        1/14/16  Cisplatin     200\n",
              "1      PT20         1/2/16  Cisplatin     140\n",
              "2       PT2        1/10/16  Cisplatin     180\n",
              "3       PT3        1/24/16  Cisplatin     140\n",
              "4       PT4        2/14/16  Cisplatin     200"
            ]
          },
          "metadata": {
            "tags": []
          },
          "execution_count": 61
        }
      ]
    },
    {
      "cell_type": "code",
      "metadata": {
        "id": "5CYRqdzjtQQe",
        "colab_type": "code",
        "colab": {}
      },
      "source": [
        "# Use the inplace keyword to modify the dataframe\n",
        "# Note that you can also sort by a list of columns\n",
        "tx.sort_values(['PatientID', 'TreatmentStart'], inplace=True)"
      ],
      "execution_count": 0,
      "outputs": []
    },
    {
      "cell_type": "code",
      "metadata": {
        "id": "BtJEy2GWtUVd",
        "colab_type": "code",
        "colab": {
          "base_uri": "https://localhost:8080/",
          "height": 204
        },
        "outputId": "6a20c451-5d54-4dab-84e9-e8eb363f4a03"
      },
      "source": [
        "# Check out the permanently sorted dataframe\n",
        "tx.head()"
      ],
      "execution_count": 64,
      "outputs": [
        {
          "output_type": "execute_result",
          "data": {
            "text/html": [
              "<div>\n",
              "<style scoped>\n",
              "    .dataframe tbody tr th:only-of-type {\n",
              "        vertical-align: middle;\n",
              "    }\n",
              "\n",
              "    .dataframe tbody tr th {\n",
              "        vertical-align: top;\n",
              "    }\n",
              "\n",
              "    .dataframe thead th {\n",
              "        text-align: right;\n",
              "    }\n",
              "</style>\n",
              "<table border=\"1\" class=\"dataframe\">\n",
              "  <thead>\n",
              "    <tr style=\"text-align: right;\">\n",
              "      <th></th>\n",
              "      <th>PatientID</th>\n",
              "      <th>TreatmentStart</th>\n",
              "      <th>Drug</th>\n",
              "      <th>Dosage</th>\n",
              "    </tr>\n",
              "  </thead>\n",
              "  <tbody>\n",
              "    <tr>\n",
              "      <th>0</th>\n",
              "      <td>PT1</td>\n",
              "      <td>1/14/16</td>\n",
              "      <td>Cisplatin</td>\n",
              "      <td>200</td>\n",
              "    </tr>\n",
              "    <tr>\n",
              "      <th>19</th>\n",
              "      <td>PT1</td>\n",
              "      <td>6/17/16</td>\n",
              "      <td>Nivolumab</td>\n",
              "      <td>240</td>\n",
              "    </tr>\n",
              "    <tr>\n",
              "      <th>11</th>\n",
              "      <td>PT10</td>\n",
              "      <td>4/7/16</td>\n",
              "      <td>Nivolumab</td>\n",
              "      <td>240</td>\n",
              "    </tr>\n",
              "    <tr>\n",
              "      <th>12</th>\n",
              "      <td>PT10</td>\n",
              "      <td>4/7/16</td>\n",
              "      <td>Cisplatin</td>\n",
              "      <td>140</td>\n",
              "    </tr>\n",
              "    <tr>\n",
              "      <th>13</th>\n",
              "      <td>PT11</td>\n",
              "      <td>4/17/16</td>\n",
              "      <td>Cisplatin</td>\n",
              "      <td>190</td>\n",
              "    </tr>\n",
              "  </tbody>\n",
              "</table>\n",
              "</div>"
            ],
            "text/plain": [
              "   PatientID TreatmentStart       Drug  Dosage\n",
              "0        PT1        1/14/16  Cisplatin     200\n",
              "19       PT1        6/17/16  Nivolumab     240\n",
              "11      PT10         4/7/16  Nivolumab     240\n",
              "12      PT10         4/7/16  Cisplatin     140\n",
              "13      PT11        4/17/16  Cisplatin     190"
            ]
          },
          "metadata": {
            "tags": []
          },
          "execution_count": 64
        }
      ]
    },
    {
      "cell_type": "code",
      "metadata": {
        "id": "4Y4YjNsstbje",
        "colab_type": "code",
        "colab": {
          "base_uri": "https://localhost:8080/",
          "height": 204
        },
        "outputId": "76a1da34-331c-4de6-fb00-916054b18b23"
      },
      "source": [
        "#Create a new cell below and sort the dataframe by drug (ascending, i.e. alphabetically) and then dosage (descending order, i.e. highest dosage first).\n",
        "tx.sort_values(['Drug', 'Dosage'], ascending=True).head()"
      ],
      "execution_count": 66,
      "outputs": [
        {
          "output_type": "execute_result",
          "data": {
            "text/html": [
              "<div>\n",
              "<style scoped>\n",
              "    .dataframe tbody tr th:only-of-type {\n",
              "        vertical-align: middle;\n",
              "    }\n",
              "\n",
              "    .dataframe tbody tr th {\n",
              "        vertical-align: top;\n",
              "    }\n",
              "\n",
              "    .dataframe thead th {\n",
              "        text-align: right;\n",
              "    }\n",
              "</style>\n",
              "<table border=\"1\" class=\"dataframe\">\n",
              "  <thead>\n",
              "    <tr style=\"text-align: right;\">\n",
              "      <th></th>\n",
              "      <th>PatientID</th>\n",
              "      <th>TreatmentStart</th>\n",
              "      <th>Drug</th>\n",
              "      <th>Dosage</th>\n",
              "    </tr>\n",
              "  </thead>\n",
              "  <tbody>\n",
              "    <tr>\n",
              "      <th>12</th>\n",
              "      <td>PT10</td>\n",
              "      <td>4/7/16</td>\n",
              "      <td>Cisplatin</td>\n",
              "      <td>140</td>\n",
              "    </tr>\n",
              "    <tr>\n",
              "      <th>1</th>\n",
              "      <td>PT20</td>\n",
              "      <td>1/2/16</td>\n",
              "      <td>Cisplatin</td>\n",
              "      <td>140</td>\n",
              "    </tr>\n",
              "    <tr>\n",
              "      <th>3</th>\n",
              "      <td>PT3</td>\n",
              "      <td>1/24/16</td>\n",
              "      <td>Cisplatin</td>\n",
              "      <td>140</td>\n",
              "    </tr>\n",
              "    <tr>\n",
              "      <th>14</th>\n",
              "      <td>PT16</td>\n",
              "      <td>4/9/16</td>\n",
              "      <td>Cisplatin</td>\n",
              "      <td>160</td>\n",
              "    </tr>\n",
              "    <tr>\n",
              "      <th>20</th>\n",
              "      <td>PT17</td>\n",
              "      <td>6/17/16</td>\n",
              "      <td>Cisplatin</td>\n",
              "      <td>160</td>\n",
              "    </tr>\n",
              "  </tbody>\n",
              "</table>\n",
              "</div>"
            ],
            "text/plain": [
              "   PatientID TreatmentStart       Drug  Dosage\n",
              "12      PT10         4/7/16  Cisplatin     140\n",
              "1       PT20         1/2/16  Cisplatin     140\n",
              "3        PT3        1/24/16  Cisplatin     140\n",
              "14      PT16         4/9/16  Cisplatin     160\n",
              "20      PT17        6/17/16  Cisplatin     160"
            ]
          },
          "metadata": {
            "tags": []
          },
          "execution_count": 66
        }
      ]
    },
    {
      "cell_type": "code",
      "metadata": {
        "id": "Wh0KNRx0tyrr",
        "colab_type": "code",
        "colab": {
          "base_uri": "https://localhost:8080/",
          "height": 102
        },
        "outputId": "b75f4b82-1a61-42ae-f072-08d6a52d400c"
      },
      "source": [
        "# Remember the dtypes property... the TreatmentStart column should really be a date, right?\n",
        "tx.dtypes"
      ],
      "execution_count": 67,
      "outputs": [
        {
          "output_type": "execute_result",
          "data": {
            "text/plain": [
              "PatientID         object\n",
              "TreatmentStart    object\n",
              "Drug              object\n",
              "Dosage             int64\n",
              "dtype: object"
            ]
          },
          "metadata": {
            "tags": []
          },
          "execution_count": 67
        }
      ]
    },
    {
      "cell_type": "code",
      "metadata": {
        "id": "W-o8pfbgt4x8",
        "colab_type": "code",
        "colab": {
          "base_uri": "https://localhost:8080/",
          "height": 102
        },
        "outputId": "e21c9d60-5529-46ca-dafc-3ef13ac03f56"
      },
      "source": [
        "# This assigns the datetime version of the TreatmentStart column to a column with the same name\n",
        "tx['TreatmentStart'] = pd.to_datetime(tx['TreatmentStart'])\n",
        "# Check the types now - we have a datetime64 type!\n",
        "tx.dtypes"
      ],
      "execution_count": 70,
      "outputs": [
        {
          "output_type": "execute_result",
          "data": {
            "text/plain": [
              "PatientID                 object\n",
              "TreatmentStart    datetime64[ns]\n",
              "Drug                      object\n",
              "Dosage                     int64\n",
              "dtype: object"
            ]
          },
          "metadata": {
            "tags": []
          },
          "execution_count": 70
        }
      ]
    },
    {
      "cell_type": "code",
      "metadata": {
        "id": "PjNmuAuGuA7a",
        "colab_type": "code",
        "colab": {
          "base_uri": "https://localhost:8080/",
          "height": 102
        },
        "outputId": "5762008b-ed6f-4042-ef03-71c70a6af53e"
      },
      "source": [
        "# This is the alternative notation to access a column in a dataframe\n",
        "tx.TreatmentStart = pd.to_datetime(tx.TreatmentStart)\n",
        "tx.dtypes"
      ],
      "execution_count": 72,
      "outputs": [
        {
          "output_type": "execute_result",
          "data": {
            "text/plain": [
              "PatientID                 object\n",
              "TreatmentStart    datetime64[ns]\n",
              "Drug                      object\n",
              "Dosage                     int64\n",
              "dtype: object"
            ]
          },
          "metadata": {
            "tags": []
          },
          "execution_count": 72
        }
      ]
    },
    {
      "cell_type": "code",
      "metadata": {
        "id": "VFnDDdJvuT3I",
        "colab_type": "code",
        "colab": {
          "base_uri": "https://localhost:8080/",
          "height": 204
        },
        "outputId": "4c032a5d-f422-4b34-8936-bbf56023b95c"
      },
      "source": [
        "tx2 = tx\n",
        "\n",
        "# Create a new dummy column in the \"copy\" of our dataframe\n",
        "tx2['NewColumn'] = 1\n",
        "# tx2 now has the new column...\n",
        "tx2.head()"
      ],
      "execution_count": 74,
      "outputs": [
        {
          "output_type": "execute_result",
          "data": {
            "text/html": [
              "<div>\n",
              "<style scoped>\n",
              "    .dataframe tbody tr th:only-of-type {\n",
              "        vertical-align: middle;\n",
              "    }\n",
              "\n",
              "    .dataframe tbody tr th {\n",
              "        vertical-align: top;\n",
              "    }\n",
              "\n",
              "    .dataframe thead th {\n",
              "        text-align: right;\n",
              "    }\n",
              "</style>\n",
              "<table border=\"1\" class=\"dataframe\">\n",
              "  <thead>\n",
              "    <tr style=\"text-align: right;\">\n",
              "      <th></th>\n",
              "      <th>PatientID</th>\n",
              "      <th>TreatmentStart</th>\n",
              "      <th>Drug</th>\n",
              "      <th>Dosage</th>\n",
              "      <th>NewColumn</th>\n",
              "    </tr>\n",
              "  </thead>\n",
              "  <tbody>\n",
              "    <tr>\n",
              "      <th>0</th>\n",
              "      <td>PT1</td>\n",
              "      <td>2016-01-14</td>\n",
              "      <td>Cisplatin</td>\n",
              "      <td>200</td>\n",
              "      <td>1</td>\n",
              "    </tr>\n",
              "    <tr>\n",
              "      <th>19</th>\n",
              "      <td>PT1</td>\n",
              "      <td>2016-06-17</td>\n",
              "      <td>Nivolumab</td>\n",
              "      <td>240</td>\n",
              "      <td>1</td>\n",
              "    </tr>\n",
              "    <tr>\n",
              "      <th>11</th>\n",
              "      <td>PT10</td>\n",
              "      <td>2016-04-07</td>\n",
              "      <td>Nivolumab</td>\n",
              "      <td>240</td>\n",
              "      <td>1</td>\n",
              "    </tr>\n",
              "    <tr>\n",
              "      <th>12</th>\n",
              "      <td>PT10</td>\n",
              "      <td>2016-04-07</td>\n",
              "      <td>Cisplatin</td>\n",
              "      <td>140</td>\n",
              "      <td>1</td>\n",
              "    </tr>\n",
              "    <tr>\n",
              "      <th>13</th>\n",
              "      <td>PT11</td>\n",
              "      <td>2016-04-17</td>\n",
              "      <td>Cisplatin</td>\n",
              "      <td>190</td>\n",
              "      <td>1</td>\n",
              "    </tr>\n",
              "  </tbody>\n",
              "</table>\n",
              "</div>"
            ],
            "text/plain": [
              "   PatientID TreatmentStart       Drug  Dosage  NewColumn\n",
              "0        PT1     2016-01-14  Cisplatin     200          1\n",
              "19       PT1     2016-06-17  Nivolumab     240          1\n",
              "11      PT10     2016-04-07  Nivolumab     240          1\n",
              "12      PT10     2016-04-07  Cisplatin     140          1\n",
              "13      PT11     2016-04-17  Cisplatin     190          1"
            ]
          },
          "metadata": {
            "tags": []
          },
          "execution_count": 74
        }
      ]
    },
    {
      "cell_type": "code",
      "metadata": {
        "id": "XJOnkDPOugXl",
        "colab_type": "code",
        "colab": {
          "base_uri": "https://localhost:8080/",
          "height": 204
        },
        "outputId": "586346b1-eadc-4f55-f762-7e911656e7b6"
      },
      "source": [
        "# ... but so does our original dataframe. This is not really what we want!\n",
        "tx.head()"
      ],
      "execution_count": 75,
      "outputs": [
        {
          "output_type": "execute_result",
          "data": {
            "text/html": [
              "<div>\n",
              "<style scoped>\n",
              "    .dataframe tbody tr th:only-of-type {\n",
              "        vertical-align: middle;\n",
              "    }\n",
              "\n",
              "    .dataframe tbody tr th {\n",
              "        vertical-align: top;\n",
              "    }\n",
              "\n",
              "    .dataframe thead th {\n",
              "        text-align: right;\n",
              "    }\n",
              "</style>\n",
              "<table border=\"1\" class=\"dataframe\">\n",
              "  <thead>\n",
              "    <tr style=\"text-align: right;\">\n",
              "      <th></th>\n",
              "      <th>PatientID</th>\n",
              "      <th>TreatmentStart</th>\n",
              "      <th>Drug</th>\n",
              "      <th>Dosage</th>\n",
              "      <th>NewColumn</th>\n",
              "    </tr>\n",
              "  </thead>\n",
              "  <tbody>\n",
              "    <tr>\n",
              "      <th>0</th>\n",
              "      <td>PT1</td>\n",
              "      <td>2016-01-14</td>\n",
              "      <td>Cisplatin</td>\n",
              "      <td>200</td>\n",
              "      <td>1</td>\n",
              "    </tr>\n",
              "    <tr>\n",
              "      <th>19</th>\n",
              "      <td>PT1</td>\n",
              "      <td>2016-06-17</td>\n",
              "      <td>Nivolumab</td>\n",
              "      <td>240</td>\n",
              "      <td>1</td>\n",
              "    </tr>\n",
              "    <tr>\n",
              "      <th>11</th>\n",
              "      <td>PT10</td>\n",
              "      <td>2016-04-07</td>\n",
              "      <td>Nivolumab</td>\n",
              "      <td>240</td>\n",
              "      <td>1</td>\n",
              "    </tr>\n",
              "    <tr>\n",
              "      <th>12</th>\n",
              "      <td>PT10</td>\n",
              "      <td>2016-04-07</td>\n",
              "      <td>Cisplatin</td>\n",
              "      <td>140</td>\n",
              "      <td>1</td>\n",
              "    </tr>\n",
              "    <tr>\n",
              "      <th>13</th>\n",
              "      <td>PT11</td>\n",
              "      <td>2016-04-17</td>\n",
              "      <td>Cisplatin</td>\n",
              "      <td>190</td>\n",
              "      <td>1</td>\n",
              "    </tr>\n",
              "  </tbody>\n",
              "</table>\n",
              "</div>"
            ],
            "text/plain": [
              "   PatientID TreatmentStart       Drug  Dosage  NewColumn\n",
              "0        PT1     2016-01-14  Cisplatin     200          1\n",
              "19       PT1     2016-06-17  Nivolumab     240          1\n",
              "11      PT10     2016-04-07  Nivolumab     240          1\n",
              "12      PT10     2016-04-07  Cisplatin     140          1\n",
              "13      PT11     2016-04-17  Cisplatin     190          1"
            ]
          },
          "metadata": {
            "tags": []
          },
          "execution_count": 75
        }
      ]
    },
    {
      "cell_type": "code",
      "metadata": {
        "id": "HaUOP_0jurez",
        "colab_type": "code",
        "colab": {
          "base_uri": "https://localhost:8080/",
          "height": 204
        },
        "outputId": "bccc3516-5e27-4a9f-a14e-fa17ea62f43d"
      },
      "source": [
        "# Drop the dummy column from the original dataframe\n",
        "# axis=1 means we're dropping columns, and we need to use inplace=True to make it permanent!\n",
        "if 'NewColumn' in tx.columns:\n",
        "    tx.drop('NewColumn', axis=1, inplace=True)\n",
        "\n",
        "# Then make a real copy of the \"clean\" tx dataframe\n",
        "tx2 = tx.copy()\n",
        "\n",
        "# Add the dummy column to tx2 and confirm that the original tx doesn't have it\n",
        "tx2['NewColumn'] = 1\n",
        "tx.head()"
      ],
      "execution_count": 76,
      "outputs": [
        {
          "output_type": "execute_result",
          "data": {
            "text/html": [
              "<div>\n",
              "<style scoped>\n",
              "    .dataframe tbody tr th:only-of-type {\n",
              "        vertical-align: middle;\n",
              "    }\n",
              "\n",
              "    .dataframe tbody tr th {\n",
              "        vertical-align: top;\n",
              "    }\n",
              "\n",
              "    .dataframe thead th {\n",
              "        text-align: right;\n",
              "    }\n",
              "</style>\n",
              "<table border=\"1\" class=\"dataframe\">\n",
              "  <thead>\n",
              "    <tr style=\"text-align: right;\">\n",
              "      <th></th>\n",
              "      <th>PatientID</th>\n",
              "      <th>TreatmentStart</th>\n",
              "      <th>Drug</th>\n",
              "      <th>Dosage</th>\n",
              "    </tr>\n",
              "  </thead>\n",
              "  <tbody>\n",
              "    <tr>\n",
              "      <th>0</th>\n",
              "      <td>PT1</td>\n",
              "      <td>2016-01-14</td>\n",
              "      <td>Cisplatin</td>\n",
              "      <td>200</td>\n",
              "    </tr>\n",
              "    <tr>\n",
              "      <th>19</th>\n",
              "      <td>PT1</td>\n",
              "      <td>2016-06-17</td>\n",
              "      <td>Nivolumab</td>\n",
              "      <td>240</td>\n",
              "    </tr>\n",
              "    <tr>\n",
              "      <th>11</th>\n",
              "      <td>PT10</td>\n",
              "      <td>2016-04-07</td>\n",
              "      <td>Nivolumab</td>\n",
              "      <td>240</td>\n",
              "    </tr>\n",
              "    <tr>\n",
              "      <th>12</th>\n",
              "      <td>PT10</td>\n",
              "      <td>2016-04-07</td>\n",
              "      <td>Cisplatin</td>\n",
              "      <td>140</td>\n",
              "    </tr>\n",
              "    <tr>\n",
              "      <th>13</th>\n",
              "      <td>PT11</td>\n",
              "      <td>2016-04-17</td>\n",
              "      <td>Cisplatin</td>\n",
              "      <td>190</td>\n",
              "    </tr>\n",
              "  </tbody>\n",
              "</table>\n",
              "</div>"
            ],
            "text/plain": [
              "   PatientID TreatmentStart       Drug  Dosage\n",
              "0        PT1     2016-01-14  Cisplatin     200\n",
              "19       PT1     2016-06-17  Nivolumab     240\n",
              "11      PT10     2016-04-07  Nivolumab     240\n",
              "12      PT10     2016-04-07  Cisplatin     140\n",
              "13      PT11     2016-04-17  Cisplatin     190"
            ]
          },
          "metadata": {
            "tags": []
          },
          "execution_count": 76
        }
      ]
    },
    {
      "cell_type": "code",
      "metadata": {
        "id": "mq210YMMvKHF",
        "colab_type": "code",
        "colab": {
          "base_uri": "https://localhost:8080/",
          "height": 51
        },
        "outputId": "bba7496c-687a-4b19-e428-9bcb3966d0cf"
      },
      "source": [
        "# Our data frame contains patient IDs and treatment starts -\n",
        "# let's check if some patients have multiple treatment starts?\n",
        "# The unique() function returns the number of unique values in a dataframe column.\n",
        "print('Number of treatment start records:', len(tx))\n",
        "print('Number of unique patients who start treatment:', len(tx.PatientID.unique()))"
      ],
      "execution_count": 77,
      "outputs": [
        {
          "output_type": "stream",
          "text": [
            "Number of treatment start records: 24\n",
            "Number of unique patients who start treatment: 20\n"
          ],
          "name": "stdout"
        }
      ]
    },
    {
      "cell_type": "code",
      "metadata": {
        "id": "sN9EZ1zfvacx",
        "colab_type": "code",
        "colab": {
          "base_uri": "https://localhost:8080/",
          "height": 34
        },
        "outputId": "dda4270a-3abc-47de-dabd-121a59fcdf48"
      },
      "source": [
        "tx.groupby('Drug')"
      ],
      "execution_count": 78,
      "outputs": [
        {
          "output_type": "execute_result",
          "data": {
            "text/plain": [
              "<pandas.core.groupby.generic.DataFrameGroupBy object at 0x7f4e6e53acf8>"
            ]
          },
          "metadata": {
            "tags": []
          },
          "execution_count": 78
        }
      ]
    },
    {
      "cell_type": "code",
      "metadata": {
        "id": "2eWH7z3Ive8F",
        "colab_type": "code",
        "colab": {
          "base_uri": "https://localhost:8080/",
          "height": 142
        },
        "outputId": "36277490-03ed-4ec2-8c72-db48fccbeeba"
      },
      "source": [
        "# The groupby function works like a groupby in SQL, i.e. it groups the dataframe by the specified\n",
        "# column and then lets you apply aggregate functions on the grouped values, e.g. counts, sums, means...\n",
        "# The count function counts the number of rows with non-null values in a column\n",
        "tx.groupby('Drug').count()"
      ],
      "execution_count": 87,
      "outputs": [
        {
          "output_type": "execute_result",
          "data": {
            "text/html": [
              "<div>\n",
              "<style scoped>\n",
              "    .dataframe tbody tr th:only-of-type {\n",
              "        vertical-align: middle;\n",
              "    }\n",
              "\n",
              "    .dataframe tbody tr th {\n",
              "        vertical-align: top;\n",
              "    }\n",
              "\n",
              "    .dataframe thead th {\n",
              "        text-align: right;\n",
              "    }\n",
              "</style>\n",
              "<table border=\"1\" class=\"dataframe\">\n",
              "  <thead>\n",
              "    <tr style=\"text-align: right;\">\n",
              "      <th></th>\n",
              "      <th>PatientID</th>\n",
              "      <th>TreatmentStart</th>\n",
              "      <th>Dosage</th>\n",
              "    </tr>\n",
              "    <tr>\n",
              "      <th>Drug</th>\n",
              "      <th></th>\n",
              "      <th></th>\n",
              "      <th></th>\n",
              "    </tr>\n",
              "  </thead>\n",
              "  <tbody>\n",
              "    <tr>\n",
              "      <th>Cisplatin</th>\n",
              "      <td>16</td>\n",
              "      <td>16</td>\n",
              "      <td>16</td>\n",
              "    </tr>\n",
              "    <tr>\n",
              "      <th>Nivolumab</th>\n",
              "      <td>8</td>\n",
              "      <td>8</td>\n",
              "      <td>8</td>\n",
              "    </tr>\n",
              "  </tbody>\n",
              "</table>\n",
              "</div>"
            ],
            "text/plain": [
              "           PatientID  TreatmentStart  Dosage\n",
              "Drug                                        \n",
              "Cisplatin         16              16      16\n",
              "Nivolumab          8               8       8"
            ]
          },
          "metadata": {
            "tags": []
          },
          "execution_count": 87
        }
      ]
    },
    {
      "cell_type": "code",
      "metadata": {
        "id": "V-ZY0IBXwmRC",
        "colab_type": "code",
        "colab": {
          "base_uri": "https://localhost:8080/",
          "height": 142
        },
        "outputId": "acaf5058-d703-4848-df08-54ce2daceb81"
      },
      "source": [
        "tx.groupby('Drug').mean()"
      ],
      "execution_count": 89,
      "outputs": [
        {
          "output_type": "execute_result",
          "data": {
            "text/html": [
              "<div>\n",
              "<style scoped>\n",
              "    .dataframe tbody tr th:only-of-type {\n",
              "        vertical-align: middle;\n",
              "    }\n",
              "\n",
              "    .dataframe tbody tr th {\n",
              "        vertical-align: top;\n",
              "    }\n",
              "\n",
              "    .dataframe thead th {\n",
              "        text-align: right;\n",
              "    }\n",
              "</style>\n",
              "<table border=\"1\" class=\"dataframe\">\n",
              "  <thead>\n",
              "    <tr style=\"text-align: right;\">\n",
              "      <th></th>\n",
              "      <th>Dosage</th>\n",
              "    </tr>\n",
              "    <tr>\n",
              "      <th>Drug</th>\n",
              "      <th></th>\n",
              "    </tr>\n",
              "  </thead>\n",
              "  <tbody>\n",
              "    <tr>\n",
              "      <th>Cisplatin</th>\n",
              "      <td>276.875</td>\n",
              "    </tr>\n",
              "    <tr>\n",
              "      <th>Nivolumab</th>\n",
              "      <td>240.000</td>\n",
              "    </tr>\n",
              "  </tbody>\n",
              "</table>\n",
              "</div>"
            ],
            "text/plain": [
              "            Dosage\n",
              "Drug              \n",
              "Cisplatin  276.875\n",
              "Nivolumab  240.000"
            ]
          },
          "metadata": {
            "tags": []
          },
          "execution_count": 89
        }
      ]
    },
    {
      "cell_type": "code",
      "metadata": {
        "id": "ptcK0n55vqle",
        "colab_type": "code",
        "colab": {
          "base_uri": "https://localhost:8080/",
          "height": 142
        },
        "outputId": "20ba49d9-612f-4402-da65-a7965bb43890"
      },
      "source": [
        "# Since we are only interested in the number of patients, \n",
        "# we select only the relevant column from the resulting dataframe\n",
        "# Note that \"PatientID\" might not be the best name for this column\n",
        "# - we can use a rename() function in Pandas to rename it to something like\n",
        "# \"PatientCount\" (skipping the rename step in this tutorial, but feel free to look it up!)\n",
        "tx.groupby('Drug').count()[['PatientID']]"
      ],
      "execution_count": 80,
      "outputs": [
        {
          "output_type": "execute_result",
          "data": {
            "text/html": [
              "<div>\n",
              "<style scoped>\n",
              "    .dataframe tbody tr th:only-of-type {\n",
              "        vertical-align: middle;\n",
              "    }\n",
              "\n",
              "    .dataframe tbody tr th {\n",
              "        vertical-align: top;\n",
              "    }\n",
              "\n",
              "    .dataframe thead th {\n",
              "        text-align: right;\n",
              "    }\n",
              "</style>\n",
              "<table border=\"1\" class=\"dataframe\">\n",
              "  <thead>\n",
              "    <tr style=\"text-align: right;\">\n",
              "      <th></th>\n",
              "      <th>PatientID</th>\n",
              "    </tr>\n",
              "    <tr>\n",
              "      <th>Drug</th>\n",
              "      <th></th>\n",
              "    </tr>\n",
              "  </thead>\n",
              "  <tbody>\n",
              "    <tr>\n",
              "      <th>Cisplatin</th>\n",
              "      <td>16</td>\n",
              "    </tr>\n",
              "    <tr>\n",
              "      <th>Nivolumab</th>\n",
              "      <td>8</td>\n",
              "    </tr>\n",
              "  </tbody>\n",
              "</table>\n",
              "</div>"
            ],
            "text/plain": [
              "           PatientID\n",
              "Drug                \n",
              "Cisplatin         16\n",
              "Nivolumab          8"
            ]
          },
          "metadata": {
            "tags": []
          },
          "execution_count": 80
        }
      ]
    },
    {
      "cell_type": "code",
      "metadata": {
        "id": "m1mZUQLpvuD2",
        "colab_type": "code",
        "colab": {
          "base_uri": "https://localhost:8080/",
          "height": 142
        },
        "outputId": "2e5bfcb9-73d2-46df-e7cd-b3d0e33fe853"
      },
      "source": [
        "# We can also use nunique() which counts the number of *unique* non-null values for each column\n",
        "# Notice how the numbers are different from the count() result\n",
        "tx.groupby('Drug').nunique()"
      ],
      "execution_count": 81,
      "outputs": [
        {
          "output_type": "execute_result",
          "data": {
            "text/html": [
              "<div>\n",
              "<style scoped>\n",
              "    .dataframe tbody tr th:only-of-type {\n",
              "        vertical-align: middle;\n",
              "    }\n",
              "\n",
              "    .dataframe tbody tr th {\n",
              "        vertical-align: top;\n",
              "    }\n",
              "\n",
              "    .dataframe thead th {\n",
              "        text-align: right;\n",
              "    }\n",
              "</style>\n",
              "<table border=\"1\" class=\"dataframe\">\n",
              "  <thead>\n",
              "    <tr style=\"text-align: right;\">\n",
              "      <th></th>\n",
              "      <th>PatientID</th>\n",
              "      <th>TreatmentStart</th>\n",
              "      <th>Drug</th>\n",
              "      <th>Dosage</th>\n",
              "    </tr>\n",
              "    <tr>\n",
              "      <th>Drug</th>\n",
              "      <th></th>\n",
              "      <th></th>\n",
              "      <th></th>\n",
              "      <th></th>\n",
              "    </tr>\n",
              "  </thead>\n",
              "  <tbody>\n",
              "    <tr>\n",
              "      <th>Cisplatin</th>\n",
              "      <td>16</td>\n",
              "      <td>15</td>\n",
              "      <td>1</td>\n",
              "      <td>7</td>\n",
              "    </tr>\n",
              "    <tr>\n",
              "      <th>Nivolumab</th>\n",
              "      <td>8</td>\n",
              "      <td>7</td>\n",
              "      <td>1</td>\n",
              "      <td>1</td>\n",
              "    </tr>\n",
              "  </tbody>\n",
              "</table>\n",
              "</div>"
            ],
            "text/plain": [
              "           PatientID  TreatmentStart  Drug  Dosage\n",
              "Drug                                              \n",
              "Cisplatin         16              15     1       7\n",
              "Nivolumab          8               7     1       1"
            ]
          },
          "metadata": {
            "tags": []
          },
          "execution_count": 81
        }
      ]
    },
    {
      "cell_type": "code",
      "metadata": {
        "id": "d57Ea2LMxc1G",
        "colab_type": "code",
        "colab": {
          "base_uri": "https://localhost:8080/",
          "height": 700
        },
        "outputId": "6f8f8809-33ed-4cf0-c8c7-d01e0ff8ad09"
      },
      "source": [
        "# With the techniques you just learned in Question 2, think back to Question 1. Create a new cell below and count how many records each patient has in order to spot those patients that receive more than one treatment.\n",
        "tx.groupby('PatientID').count()"
      ],
      "execution_count": 92,
      "outputs": [
        {
          "output_type": "execute_result",
          "data": {
            "text/html": [
              "<div>\n",
              "<style scoped>\n",
              "    .dataframe tbody tr th:only-of-type {\n",
              "        vertical-align: middle;\n",
              "    }\n",
              "\n",
              "    .dataframe tbody tr th {\n",
              "        vertical-align: top;\n",
              "    }\n",
              "\n",
              "    .dataframe thead th {\n",
              "        text-align: right;\n",
              "    }\n",
              "</style>\n",
              "<table border=\"1\" class=\"dataframe\">\n",
              "  <thead>\n",
              "    <tr style=\"text-align: right;\">\n",
              "      <th></th>\n",
              "      <th>TreatmentStart</th>\n",
              "      <th>Drug</th>\n",
              "      <th>Dosage</th>\n",
              "    </tr>\n",
              "    <tr>\n",
              "      <th>PatientID</th>\n",
              "      <th></th>\n",
              "      <th></th>\n",
              "      <th></th>\n",
              "    </tr>\n",
              "  </thead>\n",
              "  <tbody>\n",
              "    <tr>\n",
              "      <th>PT1</th>\n",
              "      <td>2</td>\n",
              "      <td>2</td>\n",
              "      <td>2</td>\n",
              "    </tr>\n",
              "    <tr>\n",
              "      <th>PT10</th>\n",
              "      <td>2</td>\n",
              "      <td>2</td>\n",
              "      <td>2</td>\n",
              "    </tr>\n",
              "    <tr>\n",
              "      <th>PT11</th>\n",
              "      <td>1</td>\n",
              "      <td>1</td>\n",
              "      <td>1</td>\n",
              "    </tr>\n",
              "    <tr>\n",
              "      <th>PT12</th>\n",
              "      <td>1</td>\n",
              "      <td>1</td>\n",
              "      <td>1</td>\n",
              "    </tr>\n",
              "    <tr>\n",
              "      <th>PT13</th>\n",
              "      <td>1</td>\n",
              "      <td>1</td>\n",
              "      <td>1</td>\n",
              "    </tr>\n",
              "    <tr>\n",
              "      <th>PT14</th>\n",
              "      <td>1</td>\n",
              "      <td>1</td>\n",
              "      <td>1</td>\n",
              "    </tr>\n",
              "    <tr>\n",
              "      <th>PT15</th>\n",
              "      <td>1</td>\n",
              "      <td>1</td>\n",
              "      <td>1</td>\n",
              "    </tr>\n",
              "    <tr>\n",
              "      <th>PT16</th>\n",
              "      <td>1</td>\n",
              "      <td>1</td>\n",
              "      <td>1</td>\n",
              "    </tr>\n",
              "    <tr>\n",
              "      <th>PT17</th>\n",
              "      <td>1</td>\n",
              "      <td>1</td>\n",
              "      <td>1</td>\n",
              "    </tr>\n",
              "    <tr>\n",
              "      <th>PT18</th>\n",
              "      <td>1</td>\n",
              "      <td>1</td>\n",
              "      <td>1</td>\n",
              "    </tr>\n",
              "    <tr>\n",
              "      <th>PT19</th>\n",
              "      <td>2</td>\n",
              "      <td>2</td>\n",
              "      <td>2</td>\n",
              "    </tr>\n",
              "    <tr>\n",
              "      <th>PT2</th>\n",
              "      <td>1</td>\n",
              "      <td>1</td>\n",
              "      <td>1</td>\n",
              "    </tr>\n",
              "    <tr>\n",
              "      <th>PT20</th>\n",
              "      <td>2</td>\n",
              "      <td>2</td>\n",
              "      <td>2</td>\n",
              "    </tr>\n",
              "    <tr>\n",
              "      <th>PT3</th>\n",
              "      <td>1</td>\n",
              "      <td>1</td>\n",
              "      <td>1</td>\n",
              "    </tr>\n",
              "    <tr>\n",
              "      <th>PT4</th>\n",
              "      <td>1</td>\n",
              "      <td>1</td>\n",
              "      <td>1</td>\n",
              "    </tr>\n",
              "    <tr>\n",
              "      <th>PT5</th>\n",
              "      <td>1</td>\n",
              "      <td>1</td>\n",
              "      <td>1</td>\n",
              "    </tr>\n",
              "    <tr>\n",
              "      <th>PT6</th>\n",
              "      <td>1</td>\n",
              "      <td>1</td>\n",
              "      <td>1</td>\n",
              "    </tr>\n",
              "    <tr>\n",
              "      <th>PT7</th>\n",
              "      <td>1</td>\n",
              "      <td>1</td>\n",
              "      <td>1</td>\n",
              "    </tr>\n",
              "    <tr>\n",
              "      <th>PT8</th>\n",
              "      <td>1</td>\n",
              "      <td>1</td>\n",
              "      <td>1</td>\n",
              "    </tr>\n",
              "    <tr>\n",
              "      <th>PT9</th>\n",
              "      <td>1</td>\n",
              "      <td>1</td>\n",
              "      <td>1</td>\n",
              "    </tr>\n",
              "  </tbody>\n",
              "</table>\n",
              "</div>"
            ],
            "text/plain": [
              "           TreatmentStart  Drug  Dosage\n",
              "PatientID                              \n",
              "PT1                     2     2       2\n",
              "PT10                    2     2       2\n",
              "PT11                    1     1       1\n",
              "PT12                    1     1       1\n",
              "PT13                    1     1       1\n",
              "PT14                    1     1       1\n",
              "PT15                    1     1       1\n",
              "PT16                    1     1       1\n",
              "PT17                    1     1       1\n",
              "PT18                    1     1       1\n",
              "PT19                    2     2       2\n",
              "PT2                     1     1       1\n",
              "PT20                    2     2       2\n",
              "PT3                     1     1       1\n",
              "PT4                     1     1       1\n",
              "PT5                     1     1       1\n",
              "PT6                     1     1       1\n",
              "PT7                     1     1       1\n",
              "PT8                     1     1       1\n",
              "PT9                     1     1       1"
            ]
          },
          "metadata": {
            "tags": []
          },
          "execution_count": 92
        }
      ]
    },
    {
      "cell_type": "code",
      "metadata": {
        "id": "dceDbMVZyUmX",
        "colab_type": "code",
        "colab": {
          "base_uri": "https://localhost:8080/",
          "height": 142
        },
        "outputId": "2fd2de19-f92f-4701-886a-0e141559fea3"
      },
      "source": [
        "# This is the same groupby we did above. Notice how the \"Drug\" column is bold\n",
        "# - it became the index after grouping by it\n",
        "tx.groupby('Drug').count()[['PatientID']]"
      ],
      "execution_count": 93,
      "outputs": [
        {
          "output_type": "execute_result",
          "data": {
            "text/html": [
              "<div>\n",
              "<style scoped>\n",
              "    .dataframe tbody tr th:only-of-type {\n",
              "        vertical-align: middle;\n",
              "    }\n",
              "\n",
              "    .dataframe tbody tr th {\n",
              "        vertical-align: top;\n",
              "    }\n",
              "\n",
              "    .dataframe thead th {\n",
              "        text-align: right;\n",
              "    }\n",
              "</style>\n",
              "<table border=\"1\" class=\"dataframe\">\n",
              "  <thead>\n",
              "    <tr style=\"text-align: right;\">\n",
              "      <th></th>\n",
              "      <th>PatientID</th>\n",
              "    </tr>\n",
              "    <tr>\n",
              "      <th>Drug</th>\n",
              "      <th></th>\n",
              "    </tr>\n",
              "  </thead>\n",
              "  <tbody>\n",
              "    <tr>\n",
              "      <th>Cisplatin</th>\n",
              "      <td>16</td>\n",
              "    </tr>\n",
              "    <tr>\n",
              "      <th>Nivolumab</th>\n",
              "      <td>8</td>\n",
              "    </tr>\n",
              "  </tbody>\n",
              "</table>\n",
              "</div>"
            ],
            "text/plain": [
              "           PatientID\n",
              "Drug                \n",
              "Cisplatin         16\n",
              "Nivolumab          8"
            ]
          },
          "metadata": {
            "tags": []
          },
          "execution_count": 93
        }
      ]
    },
    {
      "cell_type": "code",
      "metadata": {
        "id": "2h56ncupyhVy",
        "colab_type": "code",
        "colab": {
          "base_uri": "https://localhost:8080/",
          "height": 111
        },
        "outputId": "dde97142-3775-426b-a647-4de1605b6bc0"
      },
      "source": [
        "# Reset the index in the grouped dataframe to see what happens:\n",
        "tx.groupby('Drug').count()[['PatientID']].reset_index()"
      ],
      "execution_count": 94,
      "outputs": [
        {
          "output_type": "execute_result",
          "data": {
            "text/html": [
              "<div>\n",
              "<style scoped>\n",
              "    .dataframe tbody tr th:only-of-type {\n",
              "        vertical-align: middle;\n",
              "    }\n",
              "\n",
              "    .dataframe tbody tr th {\n",
              "        vertical-align: top;\n",
              "    }\n",
              "\n",
              "    .dataframe thead th {\n",
              "        text-align: right;\n",
              "    }\n",
              "</style>\n",
              "<table border=\"1\" class=\"dataframe\">\n",
              "  <thead>\n",
              "    <tr style=\"text-align: right;\">\n",
              "      <th></th>\n",
              "      <th>Drug</th>\n",
              "      <th>PatientID</th>\n",
              "    </tr>\n",
              "  </thead>\n",
              "  <tbody>\n",
              "    <tr>\n",
              "      <th>0</th>\n",
              "      <td>Cisplatin</td>\n",
              "      <td>16</td>\n",
              "    </tr>\n",
              "    <tr>\n",
              "      <th>1</th>\n",
              "      <td>Nivolumab</td>\n",
              "      <td>8</td>\n",
              "    </tr>\n",
              "  </tbody>\n",
              "</table>\n",
              "</div>"
            ],
            "text/plain": [
              "        Drug  PatientID\n",
              "0  Cisplatin         16\n",
              "1  Nivolumab          8"
            ]
          },
          "metadata": {
            "tags": []
          },
          "execution_count": 94
        }
      ]
    },
    {
      "cell_type": "code",
      "metadata": {
        "id": "JP5Ero_gykEz",
        "colab_type": "code",
        "colab": {
          "base_uri": "https://localhost:8080/",
          "height": 204
        },
        "outputId": "96a1c4d7-18bd-4691-90a6-8badf0734d8f"
      },
      "source": [
        "# Remember that any operations on the dataframe only modify the output? \n",
        "# We didn't *really* group the dataframe or reset the index. \n",
        "# The tx dataframe is still the same it was at the beginning.\n",
        "# We could use inplace=True to make the change permanent.\n",
        "tx.head()"
      ],
      "execution_count": 95,
      "outputs": [
        {
          "output_type": "execute_result",
          "data": {
            "text/html": [
              "<div>\n",
              "<style scoped>\n",
              "    .dataframe tbody tr th:only-of-type {\n",
              "        vertical-align: middle;\n",
              "    }\n",
              "\n",
              "    .dataframe tbody tr th {\n",
              "        vertical-align: top;\n",
              "    }\n",
              "\n",
              "    .dataframe thead th {\n",
              "        text-align: right;\n",
              "    }\n",
              "</style>\n",
              "<table border=\"1\" class=\"dataframe\">\n",
              "  <thead>\n",
              "    <tr style=\"text-align: right;\">\n",
              "      <th></th>\n",
              "      <th>PatientID</th>\n",
              "      <th>TreatmentStart</th>\n",
              "      <th>Drug</th>\n",
              "      <th>Dosage</th>\n",
              "    </tr>\n",
              "  </thead>\n",
              "  <tbody>\n",
              "    <tr>\n",
              "      <th>0</th>\n",
              "      <td>PT1</td>\n",
              "      <td>2016-01-14</td>\n",
              "      <td>Cisplatin</td>\n",
              "      <td>200</td>\n",
              "    </tr>\n",
              "    <tr>\n",
              "      <th>19</th>\n",
              "      <td>PT1</td>\n",
              "      <td>2016-06-17</td>\n",
              "      <td>Nivolumab</td>\n",
              "      <td>240</td>\n",
              "    </tr>\n",
              "    <tr>\n",
              "      <th>11</th>\n",
              "      <td>PT10</td>\n",
              "      <td>2016-04-07</td>\n",
              "      <td>Nivolumab</td>\n",
              "      <td>240</td>\n",
              "    </tr>\n",
              "    <tr>\n",
              "      <th>12</th>\n",
              "      <td>PT10</td>\n",
              "      <td>2016-04-07</td>\n",
              "      <td>Cisplatin</td>\n",
              "      <td>140</td>\n",
              "    </tr>\n",
              "    <tr>\n",
              "      <th>13</th>\n",
              "      <td>PT11</td>\n",
              "      <td>2016-04-17</td>\n",
              "      <td>Cisplatin</td>\n",
              "      <td>190</td>\n",
              "    </tr>\n",
              "  </tbody>\n",
              "</table>\n",
              "</div>"
            ],
            "text/plain": [
              "   PatientID TreatmentStart       Drug  Dosage\n",
              "0        PT1     2016-01-14  Cisplatin     200\n",
              "19       PT1     2016-06-17  Nivolumab     240\n",
              "11      PT10     2016-04-07  Nivolumab     240\n",
              "12      PT10     2016-04-07  Cisplatin     140\n",
              "13      PT11     2016-04-17  Cisplatin     190"
            ]
          },
          "metadata": {
            "tags": []
          },
          "execution_count": 95
        }
      ]
    },
    {
      "cell_type": "code",
      "metadata": {
        "id": "qjgqdjcgyuJk",
        "colab_type": "code",
        "colab": {
          "base_uri": "https://localhost:8080/",
          "height": 404
        },
        "outputId": "ab2a7210-4217-4130-b5d6-7ab7ad894440"
      },
      "source": [
        "# Seaborn - https://seaborn.pydata.org/\n",
        "# Let's do the same groupby as above to get the number of patient starts per drug.\n",
        "# This time, we actually assign the output to a new dataframe `counts` to make the change permanent.\n",
        "counts = tx\\\n",
        "    .groupby('Drug')\\\n",
        "    .count()[['PatientID']]\\\n",
        "    .reset_index()\n",
        "\n",
        "# Let's use a simple bar chart in Seaborn to compare counts for the two drugs\n",
        "# There are several different ways to do the plotting - this is my preferred style,\n",
        "# but you might prefer different syntax\n",
        "fig = sns.barplot(data=counts, x='Drug', y='PatientID')\n",
        "plt.title('Number of patient starts by drug')\n",
        "plt.ylabel('Number of patient starts')\n",
        "plt.xlabel('Drug')\n",
        "plt.show(fig)"
      ],
      "execution_count": 100,
      "outputs": [
        {
          "output_type": "display_data",
          "data": {
            "image/png": "[encoded data removed]",
            "text/plain": [
              "<Figure size 720x432 with 1 Axes>"
            ]
          },
          "metadata": {
            "tags": []
          }
        }
      ]
    },
    {
      "cell_type": "code",
      "metadata": {
        "id": "6Y2wAVRMzqsK",
        "colab_type": "code",
        "colab": {}
      },
      "source": [
        "# Let's add a new column that only has the treatment month to simplify things\n",
        "# There are many different ways to do this, we picked a simple one\n",
        "tx['TreatmentStartMonth'] = tx['TreatmentStart'].astype('datetime64[M]')\n",
        "\n",
        "# NOTE .astype('datetime64[M]') only works in more recent versions of Pandas, this is an older version:\n",
        "# from datetime import datetime\n",
        "# tx['TreatmentStartMonth'] = tx['TreatmentStart'].apply(lambda x: x.replace(day=1))\n",
        "\n",
        "tx.head()\n",
        "tx.to_csv(r'./TreatmentStartMonth_2.csv', index = None, header=True)"
      ],
      "execution_count": 0,
      "outputs": []
    },
    {
      "cell_type": "code",
      "metadata": {
        "id": "GgvxDJq50q7u",
        "colab_type": "code",
        "colab": {
          "base_uri": "https://localhost:8080/",
          "height": 390
        },
        "outputId": "80838ec1-9168-464d-96a3-655e9a202e71"
      },
      "source": [
        "# Let's count the number of starts per month per drug to plot it later\n",
        "# We only want the number of patients, so we filter for that column at the end\n",
        "drugs_by_month = tx.groupby(['TreatmentStartMonth', 'Drug']).count()[['PatientID']]\n",
        "drugs_by_month"
      ],
      "execution_count": 110,
      "outputs": [
        {
          "output_type": "execute_result",
          "data": {
            "text/html": [
              "<div>\n",
              "<style scoped>\n",
              "    .dataframe tbody tr th:only-of-type {\n",
              "        vertical-align: middle;\n",
              "    }\n",
              "\n",
              "    .dataframe tbody tr th {\n",
              "        vertical-align: top;\n",
              "    }\n",
              "\n",
              "    .dataframe thead th {\n",
              "        text-align: right;\n",
              "    }\n",
              "</style>\n",
              "<table border=\"1\" class=\"dataframe\">\n",
              "  <thead>\n",
              "    <tr style=\"text-align: right;\">\n",
              "      <th></th>\n",
              "      <th></th>\n",
              "      <th>PatientID</th>\n",
              "    </tr>\n",
              "    <tr>\n",
              "      <th>TreatmentStartMonth</th>\n",
              "      <th>Drug</th>\n",
              "      <th></th>\n",
              "    </tr>\n",
              "  </thead>\n",
              "  <tbody>\n",
              "    <tr>\n",
              "      <th>2016-01-01</th>\n",
              "      <th>Cisplatin</th>\n",
              "      <td>4</td>\n",
              "    </tr>\n",
              "    <tr>\n",
              "      <th>2016-02-01</th>\n",
              "      <th>Cisplatin</th>\n",
              "      <td>3</td>\n",
              "    </tr>\n",
              "    <tr>\n",
              "      <th rowspan=\"2\" valign=\"top\">2016-03-01</th>\n",
              "      <th>Cisplatin</th>\n",
              "      <td>3</td>\n",
              "    </tr>\n",
              "    <tr>\n",
              "      <th>Nivolumab</th>\n",
              "      <td>1</td>\n",
              "    </tr>\n",
              "    <tr>\n",
              "      <th rowspan=\"2\" valign=\"top\">2016-04-01</th>\n",
              "      <th>Cisplatin</th>\n",
              "      <td>3</td>\n",
              "    </tr>\n",
              "    <tr>\n",
              "      <th>Nivolumab</th>\n",
              "      <td>1</td>\n",
              "    </tr>\n",
              "    <tr>\n",
              "      <th rowspan=\"2\" valign=\"top\">2016-05-01</th>\n",
              "      <th>Cisplatin</th>\n",
              "      <td>2</td>\n",
              "    </tr>\n",
              "    <tr>\n",
              "      <th>Nivolumab</th>\n",
              "      <td>2</td>\n",
              "    </tr>\n",
              "    <tr>\n",
              "      <th rowspan=\"2\" valign=\"top\">2016-06-01</th>\n",
              "      <th>Cisplatin</th>\n",
              "      <td>1</td>\n",
              "    </tr>\n",
              "    <tr>\n",
              "      <th>Nivolumab</th>\n",
              "      <td>4</td>\n",
              "    </tr>\n",
              "  </tbody>\n",
              "</table>\n",
              "</div>"
            ],
            "text/plain": [
              "                               PatientID\n",
              "TreatmentStartMonth Drug                \n",
              "2016-01-01          Cisplatin          4\n",
              "2016-02-01          Cisplatin          3\n",
              "2016-03-01          Cisplatin          3\n",
              "                    Nivolumab          1\n",
              "2016-04-01          Cisplatin          3\n",
              "                    Nivolumab          1\n",
              "2016-05-01          Cisplatin          2\n",
              "                    Nivolumab          2\n",
              "2016-06-01          Cisplatin          1\n",
              "                    Nivolumab          4"
            ]
          },
          "metadata": {
            "tags": []
          },
          "execution_count": 110
        }
      ]
    },
    {
      "cell_type": "code",
      "metadata": {
        "id": "oPXU1IMi0uay",
        "colab_type": "code",
        "colab": {
          "base_uri": "https://localhost:8080/",
          "height": 526
        },
        "outputId": "ee96102e-01a3-4ad7-acff-b16d664bd473"
      },
      "source": [
        "# The data already looks interesting... let's plot this \n",
        "# Remember to reset_index so we can plot the regular columns\n",
        "# The \"hue\" keyword is generally used to distinguish two different categorical variables\n",
        "# in plots, e.g. in this case the two different drugs\n",
        "# NOTE: lineplot() only exists in Seaborn version 0.9 and up\n",
        "fig = sns.lineplot(data=drugs_by_month.reset_index(), \n",
        "                   x='TreatmentStartMonth', \n",
        "                   y='PatientID',\n",
        "                   hue='Drug')\n",
        "plt.title('Number of patient starts by drug and by month')\n",
        "plt.ylabel('Number of patient starts')\n",
        "plt.xlabel('Drug')\n",
        "plt.show(fig)"
      ],
      "execution_count": 111,
      "outputs": [
        {
          "output_type": "stream",
          "text": [
            "/usr/local/lib/python3.6/dist-packages/pandas/plotting/_matplotlib/converter.py:103: FutureWarning: Using an implicitly registered datetime converter for a matplotlib plotting method. The converter was registered by pandas on import. Future versions of pandas will require you to explicitly register matplotlib converters.\n",
            "\n",
            "To register the converters:\n",
            "\t>>> from pandas.plotting import register_matplotlib_converters\n",
            "\t>>> register_matplotlib_converters()\n",
            "  warnings.warn(msg, FutureWarning)\n"
          ],
          "name": "stderr"
        },
        {
          "output_type": "display_data",
          "data": {
            "image/png": "[encoded data removed]",
            "text/plain": [
              "<Figure size 720x432 with 1 Axes>"
            ]
          },
          "metadata": {
            "tags": []
          }
        }
      ]
    },
    {
      "cell_type": "markdown",
      "metadata": {
        "id": "Q8FWtwlh07fS",
        "colab_type": "text"
      },
      "source": [
        "## [Optional] Question 4: Dosage and outliers\n",
        "**Question: What is the average dosage of each drug? Are there any outliers?**"
      ]
    },
    {
      "cell_type": "code",
      "metadata": {
        "id": "CZaXlMt-0_yF",
        "colab_type": "code",
        "colab": {
          "base_uri": "https://localhost:8080/",
          "height": 173
        },
        "outputId": "cd7f5415-ceba-4e44-edf1-f96eb1b34ed1"
      },
      "source": [
        "# An easy first step is to group by the respective drug and use describe()\n",
        "tx.groupby(['Drug']).describe()"
      ],
      "execution_count": 112,
      "outputs": [
        {
          "output_type": "execute_result",
          "data": {
            "text/html": [
              "<div>\n",
              "<style scoped>\n",
              "    .dataframe tbody tr th:only-of-type {\n",
              "        vertical-align: middle;\n",
              "    }\n",
              "\n",
              "    .dataframe tbody tr th {\n",
              "        vertical-align: top;\n",
              "    }\n",
              "\n",
              "    .dataframe thead tr th {\n",
              "        text-align: left;\n",
              "    }\n",
              "\n",
              "    .dataframe thead tr:last-of-type th {\n",
              "        text-align: right;\n",
              "    }\n",
              "</style>\n",
              "<table border=\"1\" class=\"dataframe\">\n",
              "  <thead>\n",
              "    <tr>\n",
              "      <th></th>\n",
              "      <th colspan=\"8\" halign=\"left\">Dosage</th>\n",
              "    </tr>\n",
              "    <tr>\n",
              "      <th></th>\n",
              "      <th>count</th>\n",
              "      <th>mean</th>\n",
              "      <th>std</th>\n",
              "      <th>min</th>\n",
              "      <th>25%</th>\n",
              "      <th>50%</th>\n",
              "      <th>75%</th>\n",
              "      <th>max</th>\n",
              "    </tr>\n",
              "    <tr>\n",
              "      <th>Drug</th>\n",
              "      <th></th>\n",
              "      <th></th>\n",
              "      <th></th>\n",
              "      <th></th>\n",
              "      <th></th>\n",
              "      <th></th>\n",
              "      <th></th>\n",
              "      <th></th>\n",
              "    </tr>\n",
              "  </thead>\n",
              "  <tbody>\n",
              "    <tr>\n",
              "      <th>Cisplatin</th>\n",
              "      <td>16.0</td>\n",
              "      <td>276.875</td>\n",
              "      <td>406.754943</td>\n",
              "      <td>140.0</td>\n",
              "      <td>160.0</td>\n",
              "      <td>180.0</td>\n",
              "      <td>192.5</td>\n",
              "      <td>1800.0</td>\n",
              "    </tr>\n",
              "    <tr>\n",
              "      <th>Nivolumab</th>\n",
              "      <td>8.0</td>\n",
              "      <td>240.000</td>\n",
              "      <td>0.000000</td>\n",
              "      <td>240.0</td>\n",
              "      <td>240.0</td>\n",
              "      <td>240.0</td>\n",
              "      <td>240.0</td>\n",
              "      <td>240.0</td>\n",
              "    </tr>\n",
              "  </tbody>\n",
              "</table>\n",
              "</div>"
            ],
            "text/plain": [
              "          Dosage                                                         \n",
              "           count     mean         std    min    25%    50%    75%     max\n",
              "Drug                                                                     \n",
              "Cisplatin   16.0  276.875  406.754943  140.0  160.0  180.0  192.5  1800.0\n",
              "Nivolumab    8.0  240.000    0.000000  240.0  240.0  240.0  240.0   240.0"
            ]
          },
          "metadata": {
            "tags": []
          },
          "execution_count": 112
        }
      ]
    },
    {
      "cell_type": "code",
      "metadata": {
        "id": "TlNNI24c1CQ_",
        "colab_type": "code",
        "colab": {
          "base_uri": "https://localhost:8080/",
          "height": 142
        },
        "outputId": "56c31fcd-cbd4-476e-b4a0-8fc4e195dd43"
      },
      "source": [
        "# This is an example of a more complex way to get aggregates in Pandas\n",
        "# The agg function takes a dictionary of column:function pairs,\n",
        "# where \"function\" can be a built-in function like count, mean, min, etc, \n",
        "# or a custom function like a lambda.\n",
        "tx.groupby(['Drug']).agg({'Dosage': 'mean'})"
      ],
      "execution_count": 113,
      "outputs": [
        {
          "output_type": "execute_result",
          "data": {
            "text/html": [
              "<div>\n",
              "<style scoped>\n",
              "    .dataframe tbody tr th:only-of-type {\n",
              "        vertical-align: middle;\n",
              "    }\n",
              "\n",
              "    .dataframe tbody tr th {\n",
              "        vertical-align: top;\n",
              "    }\n",
              "\n",
              "    .dataframe thead th {\n",
              "        text-align: right;\n",
              "    }\n",
              "</style>\n",
              "<table border=\"1\" class=\"dataframe\">\n",
              "  <thead>\n",
              "    <tr style=\"text-align: right;\">\n",
              "      <th></th>\n",
              "      <th>Dosage</th>\n",
              "    </tr>\n",
              "    <tr>\n",
              "      <th>Drug</th>\n",
              "      <th></th>\n",
              "    </tr>\n",
              "  </thead>\n",
              "  <tbody>\n",
              "    <tr>\n",
              "      <th>Cisplatin</th>\n",
              "      <td>276.875</td>\n",
              "    </tr>\n",
              "    <tr>\n",
              "      <th>Nivolumab</th>\n",
              "      <td>240.000</td>\n",
              "    </tr>\n",
              "  </tbody>\n",
              "</table>\n",
              "</div>"
            ],
            "text/plain": [
              "            Dosage\n",
              "Drug              \n",
              "Cisplatin  276.875\n",
              "Nivolumab  240.000"
            ]
          },
          "metadata": {
            "tags": []
          },
          "execution_count": 113
        }
      ]
    },
    {
      "cell_type": "code",
      "metadata": {
        "id": "SR8OaeD_1HSe",
        "colab_type": "code",
        "colab": {
          "base_uri": "https://localhost:8080/",
          "height": 173
        },
        "outputId": "a6176372-d471-4c9f-aae6-7f4544f6daf3"
      },
      "source": [
        "# We can also pass a list of functions to a column to get multiple outputs!\n",
        "tx.groupby(['Drug']).agg({'Dosage': ['count', 'mean', 'std', 'min', 'max']})"
      ],
      "execution_count": 114,
      "outputs": [
        {
          "output_type": "execute_result",
          "data": {
            "text/html": [
              "<div>\n",
              "<style scoped>\n",
              "    .dataframe tbody tr th:only-of-type {\n",
              "        vertical-align: middle;\n",
              "    }\n",
              "\n",
              "    .dataframe tbody tr th {\n",
              "        vertical-align: top;\n",
              "    }\n",
              "\n",
              "    .dataframe thead tr th {\n",
              "        text-align: left;\n",
              "    }\n",
              "\n",
              "    .dataframe thead tr:last-of-type th {\n",
              "        text-align: right;\n",
              "    }\n",
              "</style>\n",
              "<table border=\"1\" class=\"dataframe\">\n",
              "  <thead>\n",
              "    <tr>\n",
              "      <th></th>\n",
              "      <th colspan=\"5\" halign=\"left\">Dosage</th>\n",
              "    </tr>\n",
              "    <tr>\n",
              "      <th></th>\n",
              "      <th>count</th>\n",
              "      <th>mean</th>\n",
              "      <th>std</th>\n",
              "      <th>min</th>\n",
              "      <th>max</th>\n",
              "    </tr>\n",
              "    <tr>\n",
              "      <th>Drug</th>\n",
              "      <th></th>\n",
              "      <th></th>\n",
              "      <th></th>\n",
              "      <th></th>\n",
              "      <th></th>\n",
              "    </tr>\n",
              "  </thead>\n",
              "  <tbody>\n",
              "    <tr>\n",
              "      <th>Cisplatin</th>\n",
              "      <td>16</td>\n",
              "      <td>276.875</td>\n",
              "      <td>406.754943</td>\n",
              "      <td>140</td>\n",
              "      <td>1800</td>\n",
              "    </tr>\n",
              "    <tr>\n",
              "      <th>Nivolumab</th>\n",
              "      <td>8</td>\n",
              "      <td>240.000</td>\n",
              "      <td>0.000000</td>\n",
              "      <td>240</td>\n",
              "      <td>240</td>\n",
              "    </tr>\n",
              "  </tbody>\n",
              "</table>\n",
              "</div>"
            ],
            "text/plain": [
              "          Dosage                                \n",
              "           count     mean         std  min   max\n",
              "Drug                                            \n",
              "Cisplatin     16  276.875  406.754943  140  1800\n",
              "Nivolumab      8  240.000    0.000000  240   240"
            ]
          },
          "metadata": {
            "tags": []
          },
          "execution_count": 114
        }
      ]
    },
    {
      "cell_type": "code",
      "metadata": {
        "id": "IpoglDLC1KHQ",
        "colab_type": "code",
        "colab": {
          "base_uri": "https://localhost:8080/",
          "height": 388
        },
        "outputId": "f1e63163-e6c2-4718-931b-b4e06438cf16"
      },
      "source": [
        "# We can plot this easily in Seaborn - but the outlier squashes our display\n",
        "fig = sns.boxplot(data=tx, x='Drug', y='Dosage')\n",
        "plt.show(fig)"
      ],
      "execution_count": 115,
      "outputs": [
        {
          "output_type": "display_data",
          "data": {
            "image/png": "[encoded data removed]",
            "text/plain": [
              "<Figure size 720x432 with 1 Axes>"
            ]
          },
          "metadata": {
            "tags": []
          }
        }
      ]
    },
    {
      "cell_type": "code",
      "metadata": {
        "id": "9u38ZTck1MpK",
        "colab_type": "code",
        "colab": {
          "base_uri": "https://localhost:8080/",
          "height": 388
        },
        "outputId": "f6fb93d9-be5b-4e9b-916d-4f6a997258fe"
      },
      "source": [
        "# Use showfliers=False in a boxplot to suppress outliers\n",
        "fig = sns.boxplot(data=tx, x='Drug', y='Dosage', showfliers=False)\n",
        "plt.show(fig)"
      ],
      "execution_count": 116,
      "outputs": [
        {
          "output_type": "display_data",
          "data": {
            "image/png": "[encoded data removed]",
            "text/plain": [
              "<Figure size 720x432 with 1 Axes>"
            ]
          },
          "metadata": {
            "tags": []
          }
        }
      ]
    }
  ]
}